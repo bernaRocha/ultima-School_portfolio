{
 "cells": [
  {
   "cell_type": "code",
   "execution_count": 1,
   "id": "f40c84db",
   "metadata": {},
   "outputs": [],
   "source": [
    "import pandas as pd\n",
    "import seaborn as sns\n",
    "import numpy as np\n",
    "import matplotlib.pyplot as plt"
   ]
  },
  {
   "cell_type": "code",
   "execution_count": 116,
   "id": "1fe28139",
   "metadata": {},
   "outputs": [],
   "source": [
    "df = pd.read_csv('data/dados_tratados.csv')"
   ]
  },
  {
   "cell_type": "code",
   "execution_count": 119,
   "id": "861aba7b",
   "metadata": {},
   "outputs": [
    {
     "name": "stdout",
     "output_type": "stream",
     "text": [
      "<class 'pandas.core.frame.DataFrame'>\n",
      "RangeIndex: 5334 entries, 0 to 5333\n",
      "Data columns (total 30 columns):\n",
      " #   Column                                 Non-Null Count  Dtype  \n",
      "---  ------                                 --------------  -----  \n",
      " 0   Q1                                     4836 non-null   float64\n",
      " 1   Q2                                     4836 non-null   float64\n",
      " 2   Q3                                     4836 non-null   float64\n",
      " 3   Q4                                     4836 non-null   float64\n",
      " 4   Q5                                     4836 non-null   float64\n",
      " 5   Q6                                     4836 non-null   float64\n",
      " 6   Q7                                     4836 non-null   float64\n",
      " 7   Q8                                     4836 non-null   float64\n",
      " 8   Q9                                     4836 non-null   float64\n",
      " 9   genero                                 5334 non-null   int64  \n",
      " 10  idade                                  5334 non-null   int64  \n",
      " 11  raca                                   5334 non-null   int64  \n",
      " 12  escolaridade                           5334 non-null   int64  \n",
      " 13  renda_anual_familiar                   5287 non-null   float64\n",
      " 14  tempo_atividade_semanal_pag            5334 non-null   float64\n",
      " 15  aderencia_pag                          5334 non-null   float64\n",
      " 16  total_vegetais                         5060 non-null   float64\n",
      " 17  total_verdura-v-escura-leguminosas     5060 non-null   float64\n",
      " 18  total_frutas                           5060 non-null   float64\n",
      " 19  total_frutas_in-natura                 5060 non-null   float64\n",
      " 20  total_graos-integrais                  5060 non-null   float64\n",
      " 21  total_laticinios                       5060 non-null   float64\n",
      " 22  total_proteinas                        5060 non-null   float64\n",
      " 23  total_planta-marinha-proteina-vegetal  5060 non-null   float64\n",
      " 24  total_acido-graxo                      5060 non-null   float64\n",
      " 25  total_sodio                            5060 non-null   float64\n",
      " 26  total_graos-refinados                  5060 non-null   float64\n",
      " 27  total_gordura-saturada                 5060 non-null   float64\n",
      " 28  total_acucar-adicionado                5060 non-null   float64\n",
      " 29  score_saude                            5060 non-null   float64\n",
      "dtypes: float64(26), int64(4)\n",
      "memory usage: 1.2 MB\n"
     ]
    }
   ],
   "source": [
    "df.info()"
   ]
  },
  {
   "cell_type": "markdown",
   "id": "1f2859a1",
   "metadata": {},
   "source": [
    "## Análise exploratória"
   ]
  },
  {
   "cell_type": "markdown",
   "id": "590a6a92",
   "metadata": {},
   "source": [
    "### Identificar corretamente quais variáveis são qualitativas e quais são quantitativas <br>\n",
    "  - Qualitativas: genero, raça, escolaridade <br>\n",
    "  - Quantitativas: Q [1-9], idade, renda_anual_familiar, tempo_atividade_semanal_pag, aderencia_pag, total_[vegetais-acucar], score_saude. <br>"
   ]
  },
  {
   "cell_type": "markdown",
   "id": "a8e86864",
   "metadata": {},
   "source": [
    "### Para medidas quantitativas, podemos usar medidas de posição e dispersão e para gráficos como histogramas ou de densidade\n"
   ]
  },
  {
   "cell_type": "markdown",
   "id": "ccfd6dfc",
   "metadata": {},
   "source": [
    "#### Nas últimas 2 semanas, com que frequência você ficou incomodado por algum dos problemas a seguir:"
   ]
  },
  {
   "cell_type": "code",
   "execution_count": 105,
   "id": "04b107f6",
   "metadata": {},
   "outputs": [
    {
     "name": "stdout",
     "output_type": "stream",
     "text": [
      "Pouco interesse ou pouco prazer em fazer as coisas: \n",
      "Nenhuma vez - 79.61 %\n",
      "Menos de uma semana - 13.919999999999998 %\n",
      "Uma semana ou mais - 3.7199999999999998 %\n",
      "Quase todos os dias - 2.56 %\n",
      "Não soube responder - 0.19 %\n"
     ]
    }
   ],
   "source": [
    "print('Pouco interesse ou pouco prazer em fazer as coisas: ')\n",
    "print(f'Nenhuma vez - {(df.Q1.value_counts(normalize=True).round(4) * 100)[0]} %')\n",
    "print(f'Menos de uma semana - {(df.Q1.value_counts(normalize=True).round(4) * 100)[1]} %')\n",
    "print(f'Uma semana ou mais - {(df.Q1.value_counts(normalize=True).round(4) * 100)[2]} %')\n",
    "print(f'Quase todos os dias - {(df.Q1.value_counts(normalize=True).round(4) * 100)[3]} %')\n",
    "print(f'Não soube responder - {(df.Q1.value_counts(normalize=True).round(4) * 100)[9]} %')"
   ]
  },
  {
   "cell_type": "code",
   "execution_count": 120,
   "id": "47e2dad5",
   "metadata": {},
   "outputs": [
    {
     "data": {
      "text/plain": [
       "0.0    79.61\n",
       "1.0    13.92\n",
       "2.0     3.72\n",
       "3.0     2.56\n",
       "9.0     0.19\n",
       "Name: Q1, dtype: float64"
      ]
     },
     "execution_count": 120,
     "metadata": {},
     "output_type": "execute_result"
    }
   ],
   "source": [
    "df.Q1.value_counts(normalize=True).round(4) * 100"
   ]
  },
  {
   "cell_type": "code",
   "execution_count": 107,
   "id": "985dcd8a",
   "metadata": {},
   "outputs": [
    {
     "name": "stdout",
     "output_type": "stream",
     "text": [
      "Se sentiu para baixo, deprimido(a) ou sem perspectiva\n"
     ]
    },
    {
     "data": {
      "text/plain": [
       "0.0    77.94\n",
       "1.0    15.90\n",
       "2.0     3.70\n",
       "3.0     2.36\n",
       "9.0     0.10\n",
       "Name: Q2, dtype: float64"
      ]
     },
     "execution_count": 107,
     "metadata": {},
     "output_type": "execute_result"
    }
   ],
   "source": [
    "print('Se sentiu para baixo, deprimido(a) ou sem perspectiva')\n",
    "df.Q2.value_counts(normalize=True).round(4) * 100"
   ]
  },
  {
   "cell_type": "code",
   "execution_count": 108,
   "id": "74a87028",
   "metadata": {},
   "outputs": [
    {
     "name": "stdout",
     "output_type": "stream",
     "text": [
      "Dificuldade para pegar no sono ou permanecer dormindo ou dormiu mais do que o costume\n"
     ]
    },
    {
     "data": {
      "text/plain": [
       "0.0    65.18\n",
       "1.0    22.15\n",
       "3.0     6.62\n",
       "2.0     5.91\n",
       "9.0     0.14\n",
       "Name: Q3, dtype: float64"
      ]
     },
     "execution_count": 108,
     "metadata": {},
     "output_type": "execute_result"
    }
   ],
   "source": [
    "print('Dificuldade para pegar no sono ou permanecer dormindo ou dormiu mais do que o costume')\n",
    "df.Q3.value_counts(normalize=True).round(4) * 100"
   ]
  },
  {
   "cell_type": "code",
   "execution_count": 109,
   "id": "d82f12a8",
   "metadata": {},
   "outputs": [
    {
     "name": "stdout",
     "output_type": "stream",
     "text": [
      "Se sentiu cansado(a) ou com pouca energia\n"
     ]
    },
    {
     "data": {
      "text/plain": [
       "0.0    50.23\n",
       "1.0    35.28\n",
       "2.0     7.65\n",
       "3.0     6.74\n",
       "9.0     0.10\n",
       "Name: Q4, dtype: float64"
      ]
     },
     "execution_count": 109,
     "metadata": {},
     "output_type": "execute_result"
    }
   ],
   "source": [
    "print('Se sentiu cansado(a) ou com pouca energia')\n",
    "df.Q4.value_counts(normalize=True).round(4) * 100"
   ]
  },
  {
   "cell_type": "code",
   "execution_count": 110,
   "id": "377c3274",
   "metadata": {},
   "outputs": [
    {
     "name": "stdout",
     "output_type": "stream",
     "text": [
      "Falta de apetite ou comeu demais\n"
     ]
    },
    {
     "data": {
      "text/plain": [
       "0.0    78.85\n",
       "1.0    14.29\n",
       "3.0     3.47\n",
       "2.0     3.31\n",
       "9.0     0.08\n",
       "Name: Q5, dtype: float64"
      ]
     },
     "execution_count": 110,
     "metadata": {},
     "output_type": "execute_result"
    }
   ],
   "source": [
    "print('Falta de apetite ou comeu demais')\n",
    "df.Q5.value_counts(normalize=True).round(4) * 100"
   ]
  },
  {
   "cell_type": "code",
   "execution_count": 111,
   "id": "e3b1a106",
   "metadata": {},
   "outputs": [
    {
     "name": "stdout",
     "output_type": "stream",
     "text": [
      "Se sentiu mal consigo mesmo(a) ou achou que é um fracasso ou que decepcionou sua família ou a você mesmo(a)\n"
     ]
    },
    {
     "data": {
      "text/plain": [
       "0.0    85.48\n",
       "1.0    10.61\n",
       "2.0     1.96\n",
       "3.0     1.84\n",
       "9.0     0.10\n",
       "Name: Q6, dtype: float64"
      ]
     },
     "execution_count": 111,
     "metadata": {},
     "output_type": "execute_result"
    }
   ],
   "source": [
    "print('Se sentiu mal consigo mesmo(a) ou achou que é um fracasso ou que decepcionou sua família ou a você mesmo(a)')\n",
    "df.Q6.value_counts(normalize=True).round(4) * 100"
   ]
  },
  {
   "cell_type": "code",
   "execution_count": 112,
   "id": "01169849",
   "metadata": {},
   "outputs": [
    {
     "name": "stdout",
     "output_type": "stream",
     "text": [
      "Dificuldade para se concentrar nas coisas (como ler o jornal ou ver televisão)\n"
     ]
    },
    {
     "data": {
      "text/plain": [
       "0.0    84.16\n",
       "1.0    11.27\n",
       "2.0     2.44\n",
       "3.0     2.05\n",
       "9.0     0.08\n",
       "Name: Q7, dtype: float64"
      ]
     },
     "execution_count": 112,
     "metadata": {},
     "output_type": "execute_result"
    }
   ],
   "source": [
    "print('Dificuldade para se concentrar nas coisas (como ler o jornal ou ver televisão)')\n",
    "df.Q7.value_counts(normalize=True).round(4) * 100"
   ]
  },
  {
   "cell_type": "code",
   "execution_count": 114,
   "id": "5b4d0b30",
   "metadata": {},
   "outputs": [
    {
     "name": "stdout",
     "output_type": "stream",
     "text": [
      "Teve lentidão para se movimentar ou falar (a ponto de outras pessoas perceberem), ou ao contrário, \n",
      "esteve tão agitado(a) que você ficava andando de um lado para o outro mais do que costume\n"
     ]
    },
    {
     "data": {
      "text/plain": [
       "0.0    90.20\n",
       "1.0     7.05\n",
       "2.0     1.63\n",
       "3.0     0.93\n",
       "9.0     0.19\n",
       "Name: Q8, dtype: float64"
      ]
     },
     "execution_count": 114,
     "metadata": {},
     "output_type": "execute_result"
    }
   ],
   "source": [
    "print('Teve lentidão para se movimentar ou falar (a ponto de outras pessoas perceberem), ou ao contrário, \\nesteve tão agitado(a) que você ficava andando de um lado para o outro mais do que costume')\n",
    "df.Q8.value_counts(normalize=True).round(4) * 100"
   ]
  },
  {
   "cell_type": "code",
   "execution_count": 115,
   "id": "1a81c995",
   "metadata": {},
   "outputs": [
    {
     "name": "stdout",
     "output_type": "stream",
     "text": [
      "Pensou em se ferir de alguma maneira ou que seria melhor estar morto(a)\n"
     ]
    },
    {
     "data": {
      "text/plain": [
       "0.0    96.51\n",
       "1.0     2.52\n",
       "2.0     0.66\n",
       "3.0     0.27\n",
       "9.0     0.04\n",
       "Name: Q9, dtype: float64"
      ]
     },
     "execution_count": 115,
     "metadata": {},
     "output_type": "execute_result"
    }
   ],
   "source": [
    "print('Pensou em se ferir de alguma maneira ou que seria melhor estar morto(a)')\n",
    "df.Q9.value_counts(normalize=True).round(4) * 100"
   ]
  },
  {
   "cell_type": "code",
   "execution_count": 32,
   "id": "ca2df8fd",
   "metadata": {},
   "outputs": [
    {
     "name": "stdout",
     "output_type": "stream",
     "text": [
      "Porcentagem de mulheres: 51.99 %\n",
      "Porcentagem de homens: 48.01 %\n"
     ]
    }
   ],
   "source": [
    "print(f'Porcentagem de mulheres: {(df.genero.value_counts(normalize=True)[2] * 100).round(2)} %')\n",
    "print(f'Porcentagem de homens: {(df.genero.value_counts(normalize=True)[1] * 100).round(2)} %')"
   ]
  },
  {
   "cell_type": "code",
   "execution_count": 33,
   "id": "00b08fba",
   "metadata": {},
   "outputs": [
    {
     "data": {
      "image/png": "[encoded data removed]",
      "text/plain": [
       "<Figure size 1200x400 with 1 Axes>"
      ]
     },
     "metadata": {},
     "output_type": "display_data"
    }
   ],
   "source": [
    "df.idade.hist(grid=False, bins=90, legend=True, figsize=(12, 4));"
   ]
  },
  {
   "cell_type": "code",
   "execution_count": null,
   "id": "54b997a1",
   "metadata": {},
   "outputs": [],
   "source": []
  }
 ],
 "metadata": {
  "kernelspec": {
   "display_name": "Python 3 (ipykernel)",
   "language": "python",
   "name": "python3"
  },
  "language_info": {
   "codemirror_mode": {
    "name": "ipython",
    "version": 3
   },
   "file_extension": ".py",
   "mimetype": "text/x-python",
   "name": "python",
   "nbconvert_exporter": "python",
   "pygments_lexer": "ipython3",
   "version": "3.8.10"
  }
 },
 "nbformat": 4,
 "nbformat_minor": 5
}
