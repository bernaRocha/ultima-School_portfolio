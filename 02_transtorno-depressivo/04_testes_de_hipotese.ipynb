{
 "cells": [
  {
   "cell_type": "code",
   "execution_count": 1,
   "id": "e8fcef31",
   "metadata": {},
   "outputs": [],
   "source": [
    "import pandas as pd\n",
    "import numpy as np"
   ]
  },
  {
   "cell_type": "code",
   "execution_count": 2,
   "id": "38cb5f21",
   "metadata": {},
   "outputs": [],
   "source": [
    "df = pd.read_csv('data/dados_tratados.csv')"
   ]
  },
  {
   "cell_type": "markdown",
   "id": "54ee0d39",
   "metadata": {},
   "source": [
    "# Testando hipóteses"
   ]
  },
  {
   "cell_type": "markdown",
   "id": "b729b5f6",
   "metadata": {},
   "source": [
    "#### 1) Os três grupos de depressão diferem quanto à idade?\n",
    "\n",
    "Teste ANOVA (F): compara as médias de mais de dois grupos\n",
    "\n",
    "Hipóteses do teste ANOVA:\n",
    "\n",
    "● H0: não há diferença entre as médias dos grupos\n",
    "\n",
    "● H1: há pelo menos uma diferença entre as médias dos grupos"
   ]
  },
  {
   "cell_type": "code",
   "execution_count": 4,
   "id": "13699b06",
   "metadata": {},
   "outputs": [],
   "source": [
    "from scipy.stats import f_oneway"
   ]
  },
  {
   "cell_type": "code",
   "execution_count": 5,
   "id": "580cfcd5",
   "metadata": {},
   "outputs": [
    {
     "data": {
      "text/plain": [
       "F_onewayResult(statistic=3.1581131364285238, pvalue=0.042600135220506305)"
      ]
     },
     "execution_count": 5,
     "metadata": {},
     "output_type": "execute_result"
    }
   ],
   "source": [
    "df_aux = df[[\"Q_somatorio\", \"idade\"]].dropna()\n",
    "\n",
    "\n",
    "f_oneway(df_aux[df_aux[\"Q_somatorio\"] == 0][\"idade\"]\n",
    "         , df_aux[df_aux[\"Q_somatorio\"] == 1][\"idade\"] \n",
    "         , df_aux[df_aux[\"Q_somatorio\"] == 2][\"idade\"])"
   ]
  },
  {
   "cell_type": "markdown",
   "id": "52769638",
   "metadata": {},
   "source": [
    "###### O p-valor é menor que 0.05, então rejeitamos Ho apesar da proximidade.\n",
    "Se p-valor fosse maior, então as médias do somatório do questionário seriam iguais para as idades  "
   ]
  },
  {
   "cell_type": "markdown",
   "id": "2c756181",
   "metadata": {},
   "source": [
    "#### 2) Os três grupos de depressão diferem quanto ao tempo dedicado a exercício físico, por semana?\n",
    "Teste ANOVA (F): compara as médias de mais de dois grupos\n",
    "\n",
    "Hipóteses do teste ANOVA:\n",
    "\n",
    "● H0: os três grupos de depressão não diferem quanto à\n",
    "média de tempo gasto com exercício físico\n",
    "\n",
    "● Ha: há pelo menos uma diferença na média de tempo gasto\n",
    "com exercício físico entre os três grupos de depressão"
   ]
  },
  {
   "cell_type": "code",
   "execution_count": 6,
   "id": "e2a5c315",
   "metadata": {},
   "outputs": [
    {
     "data": {
      "text/plain": [
       "F_onewayResult(statistic=8.830470101132343, pvalue=0.00014875954098661465)"
      ]
     },
     "execution_count": 6,
     "metadata": {},
     "output_type": "execute_result"
    }
   ],
   "source": [
    "df_aux = df[[\"Q_somatorio\", \"tempo_atividade_semanal_pag\"]].dropna()\n",
    "\n",
    "f_oneway(df_aux[df_aux[\"Q_somatorio\"] == 0][\"tempo_atividade_semanal_pag\"]\n",
    "         , df_aux[df_aux[\"Q_somatorio\"] == 1][\"tempo_atividade_semanal_pag\"] \n",
    "         , df_aux[df_aux[\"Q_somatorio\"] == 2][\"tempo_atividade_semanal_pag\"])"
   ]
  },
  {
   "cell_type": "markdown",
   "id": "565cb8c5",
   "metadata": {},
   "source": [
    "###### O p-valor é bem menor que 0.05, então rejeitamos Ho\n",
    "Há ao menos uma diferença na média de tempo gasto com exercícios nos grupos com sintomas de depressão"
   ]
  },
  {
   "cell_type": "markdown",
   "id": "a8a74a44",
   "metadata": {},
   "source": [
    "Para ver quais grupos diferem usarei o teste Post Hoc de Tukey"
   ]
  },
  {
   "cell_type": "code",
   "execution_count": 7,
   "id": "169553d5",
   "metadata": {},
   "outputs": [
    {
     "name": "stdout",
     "output_type": "stream",
     "text": [
      "  Multiple Comparison of Means - Tukey HSD, FWER=0.05   \n",
      "========================================================\n",
      "group1 group2  meandiff p-adj    lower    upper   reject\n",
      "--------------------------------------------------------\n",
      "   0.0    1.0  -24.2635 0.7603 -104.9029  56.3758  False\n",
      "   0.0    2.0 -210.1182 0.0001 -327.5814  -92.655   True\n",
      "   1.0    2.0 -185.8547 0.0037 -321.2326 -50.4768   True\n",
      "--------------------------------------------------------\n"
     ]
    }
   ],
   "source": [
    "from statsmodels.stats.multicomp import pairwise_tukeyhsd\n",
    "\n",
    "tukey = pairwise_tukeyhsd(df_aux[\"tempo_atividade_semanal_pag\"], df_aux[\"Q_somatorio\"], alpha = 0.05)\n",
    "\n",
    "print(tukey)"
   ]
  },
  {
   "cell_type": "markdown",
   "id": "d8e35dfd",
   "metadata": {},
   "source": [
    "Quando p-adj menor que 0.05, rejeitamos H0 (par tem a mesma média). \n",
    "\n",
    "Dessa forma, rejeitamos o H0 para os pares 0-2 e o 1-2 (médias não são iguais) (0.0001 e 0.0037)\n",
    "\n",
    "##### Conclindo que o tempo de atividade semanal tem influência em sintomas de depressão."
   ]
  },
  {
   "cell_type": "markdown",
   "id": "611b6b07",
   "metadata": {},
   "source": [
    "### 3) A proporção de pessoas em cada grupo de depressão varia de acordo com o gênero?\n",
    "\n",
    "Teste qui-quadrado: avalia a associação entre duas variáveis categóricas\n",
    "\n",
    "Hipóteses do teste qui-quadrado:\n",
    "    \n",
    "● H0: não há associação entre as duas variáveis\n",
    "    \n",
    "● Ha: há associação entre as duas variáveis"
   ]
  },
  {
   "cell_type": "code",
   "execution_count": 8,
   "id": "54cfa98f",
   "metadata": {},
   "outputs": [],
   "source": [
    "from scipy.stats import chi2_contingency"
   ]
  },
  {
   "cell_type": "code",
   "execution_count": 9,
   "id": "e8867c71",
   "metadata": {},
   "outputs": [
    {
     "data": {
      "text/html": [
       "<div>\n",
       "<style scoped>\n",
       "    .dataframe tbody tr th:only-of-type {\n",
       "        vertical-align: middle;\n",
       "    }\n",
       "\n",
       "    .dataframe tbody tr th {\n",
       "        vertical-align: top;\n",
       "    }\n",
       "\n",
       "    .dataframe thead th {\n",
       "        text-align: right;\n",
       "    }\n",
       "</style>\n",
       "<table border=\"1\" class=\"dataframe\">\n",
       "  <thead>\n",
       "    <tr style=\"text-align: right;\">\n",
       "      <th>Q_somatorio</th>\n",
       "      <th>0.0</th>\n",
       "      <th>1.0</th>\n",
       "      <th>2.0</th>\n",
       "    </tr>\n",
       "    <tr>\n",
       "      <th>genero</th>\n",
       "      <th></th>\n",
       "      <th></th>\n",
       "      <th></th>\n",
       "    </tr>\n",
       "  </thead>\n",
       "  <tbody>\n",
       "    <tr>\n",
       "      <th>homem</th>\n",
       "      <td>1807</td>\n",
       "      <td>250</td>\n",
       "      <td>110</td>\n",
       "    </tr>\n",
       "    <tr>\n",
       "      <th>mulher</th>\n",
       "      <td>1777</td>\n",
       "      <td>391</td>\n",
       "      <td>166</td>\n",
       "    </tr>\n",
       "  </tbody>\n",
       "</table>\n",
       "</div>"
      ],
      "text/plain": [
       "Q_somatorio   0.0  1.0  2.0\n",
       "genero                     \n",
       "homem        1807  250  110\n",
       "mulher       1777  391  166"
      ]
     },
     "execution_count": 9,
     "metadata": {},
     "output_type": "execute_result"
    }
   ],
   "source": [
    "crosstab = pd.crosstab(df[\"genero\"], df[\"Q_somatorio\"])\n",
    "crosstab"
   ]
  },
  {
   "cell_type": "code",
   "execution_count": 14,
   "id": "c025b401",
   "metadata": {},
   "outputs": [
    {
     "name": "stdout",
     "output_type": "stream",
     "text": [
      "P-valor: 1.1961888826883248e-08\n"
     ]
    }
   ],
   "source": [
    "print(f'P-valor: {chi2_contingency(crosstab)[1]}')"
   ]
  },
  {
   "cell_type": "markdown",
   "id": "3d1b0dc1",
   "metadata": {},
   "source": [
    "* H0: Não há associacao entre as 2 variáveis (genero e depressao)\n",
    "\n",
    "* Ha: Há associacao entre as 2 variáveis (genero e depressao)\n",
    "\n",
    "Como pvalor menor que 0.05, rejeitamos H0\n",
    "- Há associação entre gênero e a presença de sintomas depressivos a 95% de confiança"
   ]
  },
  {
   "cell_type": "code",
   "execution_count": 16,
   "id": "a4569532",
   "metadata": {},
   "outputs": [
    {
     "name": "stdout",
     "output_type": "stream",
     "text": [
      "Proporção de homem e mulher em cada categoria de depressão\n"
     ]
    },
    {
     "data": {
      "text/html": [
       "<div>\n",
       "<style scoped>\n",
       "    .dataframe tbody tr th:only-of-type {\n",
       "        vertical-align: middle;\n",
       "    }\n",
       "\n",
       "    .dataframe tbody tr th {\n",
       "        vertical-align: top;\n",
       "    }\n",
       "\n",
       "    .dataframe thead th {\n",
       "        text-align: right;\n",
       "    }\n",
       "</style>\n",
       "<table border=\"1\" class=\"dataframe\">\n",
       "  <thead>\n",
       "    <tr style=\"text-align: right;\">\n",
       "      <th>Q_somatorio</th>\n",
       "      <th>0.0</th>\n",
       "      <th>1.0</th>\n",
       "      <th>2.0</th>\n",
       "    </tr>\n",
       "    <tr>\n",
       "      <th>genero</th>\n",
       "      <th></th>\n",
       "      <th></th>\n",
       "      <th></th>\n",
       "    </tr>\n",
       "  </thead>\n",
       "  <tbody>\n",
       "    <tr>\n",
       "      <th>homem</th>\n",
       "      <td>0.833872</td>\n",
       "      <td>0.115367</td>\n",
       "      <td>0.050761</td>\n",
       "    </tr>\n",
       "    <tr>\n",
       "      <th>mulher</th>\n",
       "      <td>0.761354</td>\n",
       "      <td>0.167524</td>\n",
       "      <td>0.071123</td>\n",
       "    </tr>\n",
       "  </tbody>\n",
       "</table>\n",
       "</div>"
      ],
      "text/plain": [
       "Q_somatorio       0.0       1.0       2.0\n",
       "genero                                   \n",
       "homem        0.833872  0.115367  0.050761\n",
       "mulher       0.761354  0.167524  0.071123"
      ]
     },
     "execution_count": 16,
     "metadata": {},
     "output_type": "execute_result"
    }
   ],
   "source": [
    "print('Proporção de homem e mulher em cada categoria de depressão: ')\n",
    "pd.crosstab(df[\"genero\"], df[\"Q_somatorio\"], normalize = \"index\")"
   ]
  },
  {
   "cell_type": "code",
   "execution_count": null,
   "id": "0f7c3722",
   "metadata": {},
   "outputs": [],
   "source": []
  }
 ],
 "metadata": {
  "kernelspec": {
   "display_name": "Python 3 (ipykernel)",
   "language": "python",
   "name": "python3"
  },
  "language_info": {
   "codemirror_mode": {
    "name": "ipython",
    "version": 3
   },
   "file_extension": ".py",
   "mimetype": "text/x-python",
   "name": "python",
   "nbconvert_exporter": "python",
   "pygments_lexer": "ipython3",
   "version": "3.8.10"
  }
 },
 "nbformat": 4,
 "nbformat_minor": 5
}
