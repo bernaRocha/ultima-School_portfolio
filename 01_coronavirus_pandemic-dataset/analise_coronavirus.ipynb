{
 "cells": [
  {
   "cell_type": "markdown",
   "id": "74156138",
   "metadata": {},
   "source": [
    "# Análise de um dataset sobre a pandemia do coronavírus"
   ]
  },
  {
   "cell_type": "markdown",
   "id": "e3c92490",
   "metadata": {},
   "source": [
    "#### Dataset: https://www.kaggle.com/datasets/whenamancodes/covid-19-coronavirus-pandemic-dataset"
   ]
  },
  {
   "cell_type": "markdown",
   "id": "0504a790",
   "metadata": {},
   "source": [
    "#### Decidi fazer um estudo com um dataset sobre o coronavírus devido o impacto mundial que causou a pandemia. \n",
    "##### Download do arquivo csv em 15 de novembro de 2022."
   ]
  },
  {
   "cell_type": "code",
   "execution_count": 114,
   "id": "006d6c05",
   "metadata": {},
   "outputs": [],
   "source": [
    "import pandas as pd\n",
    "import seaborn as sns\n",
    "import numpy as np\n",
    "import matplotlib.pyplot as plt"
   ]
  },
  {
   "cell_type": "code",
   "execution_count": 115,
   "id": "91e5ee5d",
   "metadata": {},
   "outputs": [],
   "source": [
    "data = pd.read_csv('../data/Covid_Live.csv')"
   ]
  },
  {
   "cell_type": "code",
   "execution_count": 116,
   "id": "e778dfcc",
   "metadata": {},
   "outputs": [
    {
     "data": {
      "text/html": [
       "<div>\n",
       "<style scoped>\n",
       "    .dataframe tbody tr th:only-of-type {\n",
       "        vertical-align: middle;\n",
       "    }\n",
       "\n",
       "    .dataframe tbody tr th {\n",
       "        vertical-align: top;\n",
       "    }\n",
       "\n",
       "    .dataframe thead th {\n",
       "        text-align: right;\n",
       "    }\n",
       "</style>\n",
       "<table border=\"1\" class=\"dataframe\">\n",
       "  <thead>\n",
       "    <tr style=\"text-align: right;\">\n",
       "      <th></th>\n",
       "      <th>#</th>\n",
       "      <th>Country,\\nOther</th>\n",
       "      <th>Total\\nCases</th>\n",
       "      <th>Total\\nDeaths</th>\n",
       "      <th>New\\nDeaths</th>\n",
       "      <th>Total\\nRecovered</th>\n",
       "      <th>Active\\nCases</th>\n",
       "      <th>Serious,\\nCritical</th>\n",
       "      <th>Tot Cases/\\n1M pop</th>\n",
       "      <th>Deaths/\\n1M pop</th>\n",
       "      <th>Total\\nTests</th>\n",
       "      <th>Tests/\\n1M pop</th>\n",
       "      <th>Population</th>\n",
       "    </tr>\n",
       "  </thead>\n",
       "  <tbody>\n",
       "    <tr>\n",
       "      <th>0</th>\n",
       "      <td>1</td>\n",
       "      <td>USA</td>\n",
       "      <td>98,166,904</td>\n",
       "      <td>1,084,282</td>\n",
       "      <td>NaN</td>\n",
       "      <td>94,962,112</td>\n",
       "      <td>2,120,510</td>\n",
       "      <td>2,970</td>\n",
       "      <td>293,206</td>\n",
       "      <td>3,239</td>\n",
       "      <td>1,118,158,870</td>\n",
       "      <td>3,339,729</td>\n",
       "      <td>334,805,269</td>\n",
       "    </tr>\n",
       "    <tr>\n",
       "      <th>1</th>\n",
       "      <td>2</td>\n",
       "      <td>India</td>\n",
       "      <td>44,587,307</td>\n",
       "      <td>528,629</td>\n",
       "      <td>NaN</td>\n",
       "      <td>44,019,095</td>\n",
       "      <td>39,583</td>\n",
       "      <td>698</td>\n",
       "      <td>31,698</td>\n",
       "      <td>376</td>\n",
       "      <td>894,416,853</td>\n",
       "      <td>635,857</td>\n",
       "      <td>1,406,631,776</td>\n",
       "    </tr>\n",
       "    <tr>\n",
       "      <th>2</th>\n",
       "      <td>3</td>\n",
       "      <td>France</td>\n",
       "      <td>35,342,950</td>\n",
       "      <td>155,078</td>\n",
       "      <td>NaN</td>\n",
       "      <td>34,527,115</td>\n",
       "      <td>660,757</td>\n",
       "      <td>869</td>\n",
       "      <td>538,892</td>\n",
       "      <td>2,365</td>\n",
       "      <td>271,490,188</td>\n",
       "      <td>4,139,547</td>\n",
       "      <td>65,584,518</td>\n",
       "    </tr>\n",
       "    <tr>\n",
       "      <th>3</th>\n",
       "      <td>4</td>\n",
       "      <td>Brazil</td>\n",
       "      <td>34,706,757</td>\n",
       "      <td>686,027</td>\n",
       "      <td>NaN</td>\n",
       "      <td>33,838,636</td>\n",
       "      <td>182,094</td>\n",
       "      <td>8,318</td>\n",
       "      <td>161,162</td>\n",
       "      <td>3,186</td>\n",
       "      <td>63,776,166</td>\n",
       "      <td>296,146</td>\n",
       "      <td>215,353,593</td>\n",
       "    </tr>\n",
       "    <tr>\n",
       "      <th>4</th>\n",
       "      <td>5</td>\n",
       "      <td>Germany</td>\n",
       "      <td>33,312,373</td>\n",
       "      <td>149,948</td>\n",
       "      <td>NaN</td>\n",
       "      <td>32,315,200</td>\n",
       "      <td>847,225</td>\n",
       "      <td>1,406</td>\n",
       "      <td>397,126</td>\n",
       "      <td>1,788</td>\n",
       "      <td>122,332,384</td>\n",
       "      <td>1,458,359</td>\n",
       "      <td>83,883,596</td>\n",
       "    </tr>\n",
       "  </tbody>\n",
       "</table>\n",
       "</div>"
      ],
      "text/plain": [
       "   # Country,\\nOther Total\\nCases Total\\nDeaths  New\\nDeaths Total\\nRecovered  \\\n",
       "0  1             USA   98,166,904     1,084,282          NaN       94,962,112   \n",
       "1  2           India   44,587,307       528,629          NaN       44,019,095   \n",
       "2  3          France   35,342,950       155,078          NaN       34,527,115   \n",
       "3  4          Brazil   34,706,757       686,027          NaN       33,838,636   \n",
       "4  5         Germany   33,312,373       149,948          NaN       32,315,200   \n",
       "\n",
       "  Active\\nCases Serious,\\nCritical Tot Cases/\\n1M pop Deaths/\\n1M pop  \\\n",
       "0     2,120,510              2,970            293,206           3,239   \n",
       "1        39,583                698             31,698             376   \n",
       "2       660,757                869            538,892           2,365   \n",
       "3       182,094              8,318            161,162           3,186   \n",
       "4       847,225              1,406            397,126           1,788   \n",
       "\n",
       "    Total\\nTests Tests/\\n1M pop     Population  \n",
       "0  1,118,158,870      3,339,729    334,805,269  \n",
       "1    894,416,853        635,857  1,406,631,776  \n",
       "2    271,490,188      4,139,547     65,584,518  \n",
       "3     63,776,166        296,146    215,353,593  \n",
       "4    122,332,384      1,458,359     83,883,596  "
      ]
     },
     "execution_count": 116,
     "metadata": {},
     "output_type": "execute_result"
    }
   ],
   "source": [
    "data.head()"
   ]
  },
  {
   "cell_type": "code",
   "execution_count": 117,
   "id": "47a6eb6d",
   "metadata": {},
   "outputs": [
    {
     "name": "stdout",
     "output_type": "stream",
     "text": [
      "<class 'pandas.core.frame.DataFrame'>\n",
      "RangeIndex: 230 entries, 0 to 229\n",
      "Data columns (total 13 columns):\n",
      " #   Column             Non-Null Count  Dtype  \n",
      "---  ------             --------------  -----  \n",
      " 0   #                  230 non-null    int64  \n",
      " 1   Country,\n",
      "Other     230 non-null    object \n",
      " 2   Total\n",
      "Cases        230 non-null    object \n",
      " 3   Total\n",
      "Deaths       225 non-null    object \n",
      " 4   New\n",
      "Deaths         3 non-null      float64\n",
      " 5   Total\n",
      "Recovered    214 non-null    object \n",
      " 6   Active\n",
      "Cases       215 non-null    object \n",
      " 7   Serious,\n",
      "Critical  147 non-null    object \n",
      " 8   Tot Cases/\n",
      "1M pop  228 non-null    object \n",
      " 9   Deaths/\n",
      "1M pop     223 non-null    object \n",
      " 10  Total\n",
      "Tests        214 non-null    object \n",
      " 11  Tests/\n",
      "1M pop      214 non-null    object \n",
      " 12  Population         228 non-null    object \n",
      "dtypes: float64(1), int64(1), object(11)\n",
      "memory usage: 23.5+ KB\n"
     ]
    }
   ],
   "source": [
    "data.info()"
   ]
  },
  {
   "cell_type": "code",
   "execution_count": 118,
   "id": "a2765953",
   "metadata": {},
   "outputs": [
    {
     "data": {
      "text/plain": [
       "#                       int64\n",
       "Country,\\nOther        object\n",
       "Total\\nCases           object\n",
       "Total\\nDeaths          object\n",
       "New\\nDeaths           float64\n",
       "Total\\nRecovered       object\n",
       "Active\\nCases          object\n",
       "Serious,\\nCritical     object\n",
       "Tot Cases/\\n1M pop     object\n",
       "Deaths/\\n1M pop        object\n",
       "Total\\nTests           object\n",
       "Tests/\\n1M pop         object\n",
       "Population             object\n",
       "dtype: object"
      ]
     },
     "execution_count": 118,
     "metadata": {},
     "output_type": "execute_result"
    }
   ],
   "source": [
    "data.dtypes"
   ]
  },
  {
   "cell_type": "markdown",
   "id": "47e16da8",
   "metadata": {},
   "source": [
    "### Formato deste dataframe"
   ]
  },
  {
   "cell_type": "code",
   "execution_count": 119,
   "id": "252a68df",
   "metadata": {},
   "outputs": [
    {
     "name": "stdout",
     "output_type": "stream",
     "text": [
      "Número de linhas: 230\n",
      "Número de colunas: 13\n"
     ]
    }
   ],
   "source": [
    "print(f\"Número de linhas: {data.shape[0]}\\n\"\n",
    "f\"Número de colunas: {data.shape[1]}\")"
   ]
  },
  {
   "cell_type": "markdown",
   "id": "22e0aa1f",
   "metadata": {},
   "source": [
    "###### Retirando a coluna \"#\" devido a não utilidade para a análise\n"
   ]
  },
  {
   "cell_type": "code",
   "execution_count": 101,
   "id": "43d5b21d",
   "metadata": {},
   "outputs": [],
   "source": [
    "data.drop([\"#\"], axis =1, inplace = True)"
   ]
  },
  {
   "cell_type": "markdown",
   "id": "dedf3abc",
   "metadata": {},
   "source": [
    "###### Renomeando as colunas para melhor entendimento\n"
   ]
  },
  {
   "cell_type": "code",
   "execution_count": 120,
   "id": "d35db781",
   "metadata": {},
   "outputs": [
    {
     "ename": "ValueError",
     "evalue": "Length mismatch: Expected axis has 13 elements, new values have 12 elements",
     "output_type": "error",
     "traceback": [
      "\u001b[0;31m---------------------------------------------------------------------------\u001b[0m",
      "\u001b[0;31mValueError\u001b[0m                                Traceback (most recent call last)",
      "Cell \u001b[0;32mIn [120], line 1\u001b[0m\n\u001b[0;32m----> 1\u001b[0m \u001b[43mdata\u001b[49m\u001b[38;5;241;43m.\u001b[39;49m\u001b[43mcolumns\u001b[49m \u001b[38;5;241m=\u001b[39m [\u001b[38;5;124m\"\u001b[39m\u001b[38;5;124mpais\u001b[39m\u001b[38;5;124m\"\u001b[39m, \u001b[38;5;124m\"\u001b[39m\u001b[38;5;124mtotal_casos\u001b[39m\u001b[38;5;124m\"\u001b[39m, \u001b[38;5;124m\"\u001b[39m\u001b[38;5;124mtotal_obitos\u001b[39m\u001b[38;5;124m\"\u001b[39m, \u001b[38;5;124m\"\u001b[39m\u001b[38;5;124mobitos_recentes\u001b[39m\u001b[38;5;124m\"\u001b[39m, \u001b[38;5;124m\"\u001b[39m\u001b[38;5;124mtotal_recuperados\u001b[39m\u001b[38;5;124m\"\u001b[39m, \u001b[38;5;124m\"\u001b[39m\u001b[38;5;124mcasos_ativos\u001b[39m\u001b[38;5;124m\"\u001b[39m, \u001b[38;5;124m\"\u001b[39m\u001b[38;5;124mestado_serio_critico\u001b[39m\u001b[38;5;124m\"\u001b[39m, \u001b[38;5;124m\"\u001b[39m\u001b[38;5;124mcasos_por_milhao\u001b[39m\u001b[38;5;124m\"\u001b[39m, \u001b[38;5;124m\"\u001b[39m\u001b[38;5;124mobitos_por_milhao\u001b[39m\u001b[38;5;124m\"\u001b[39m, \u001b[38;5;124m\"\u001b[39m\u001b[38;5;124mtotal_testes\u001b[39m\u001b[38;5;124m\"\u001b[39m, \u001b[38;5;124m\"\u001b[39m\u001b[38;5;124mtestes_por_milhao\u001b[39m\u001b[38;5;124m\"\u001b[39m, \u001b[38;5;124m\"\u001b[39m\u001b[38;5;124mpopulacao\u001b[39m\u001b[38;5;124m\"\u001b[39m]\n",
      "File \u001b[0;32m~/.local/lib/python3.8/site-packages/pandas/core/generic.py:5915\u001b[0m, in \u001b[0;36mNDFrame.__setattr__\u001b[0;34m(self, name, value)\u001b[0m\n\u001b[1;32m   5913\u001b[0m \u001b[38;5;28;01mtry\u001b[39;00m:\n\u001b[1;32m   5914\u001b[0m     \u001b[38;5;28mobject\u001b[39m\u001b[38;5;241m.\u001b[39m\u001b[38;5;21m__getattribute__\u001b[39m(\u001b[38;5;28mself\u001b[39m, name)\n\u001b[0;32m-> 5915\u001b[0m     \u001b[38;5;28;01mreturn\u001b[39;00m \u001b[38;5;28;43mobject\u001b[39;49m\u001b[38;5;241;43m.\u001b[39;49m\u001b[38;5;21;43m__setattr__\u001b[39;49m\u001b[43m(\u001b[49m\u001b[38;5;28;43mself\u001b[39;49m\u001b[43m,\u001b[49m\u001b[43m \u001b[49m\u001b[43mname\u001b[49m\u001b[43m,\u001b[49m\u001b[43m \u001b[49m\u001b[43mvalue\u001b[49m\u001b[43m)\u001b[49m\n\u001b[1;32m   5916\u001b[0m \u001b[38;5;28;01mexcept\u001b[39;00m \u001b[38;5;167;01mAttributeError\u001b[39;00m:\n\u001b[1;32m   5917\u001b[0m     \u001b[38;5;28;01mpass\u001b[39;00m\n",
      "File \u001b[0;32m~/.local/lib/python3.8/site-packages/pandas/_libs/properties.pyx:69\u001b[0m, in \u001b[0;36mpandas._libs.properties.AxisProperty.__set__\u001b[0;34m()\u001b[0m\n",
      "File \u001b[0;32m~/.local/lib/python3.8/site-packages/pandas/core/generic.py:823\u001b[0m, in \u001b[0;36mNDFrame._set_axis\u001b[0;34m(self, axis, labels)\u001b[0m\n\u001b[1;32m    821\u001b[0m \u001b[38;5;28;01mdef\u001b[39;00m \u001b[38;5;21m_set_axis\u001b[39m(\u001b[38;5;28mself\u001b[39m, axis: \u001b[38;5;28mint\u001b[39m, labels: AnyArrayLike \u001b[38;5;241m|\u001b[39m \u001b[38;5;28mlist\u001b[39m) \u001b[38;5;241m-\u001b[39m\u001b[38;5;241m>\u001b[39m \u001b[38;5;28;01mNone\u001b[39;00m:\n\u001b[1;32m    822\u001b[0m     labels \u001b[38;5;241m=\u001b[39m ensure_index(labels)\n\u001b[0;32m--> 823\u001b[0m     \u001b[38;5;28;43mself\u001b[39;49m\u001b[38;5;241;43m.\u001b[39;49m\u001b[43m_mgr\u001b[49m\u001b[38;5;241;43m.\u001b[39;49m\u001b[43mset_axis\u001b[49m\u001b[43m(\u001b[49m\u001b[43maxis\u001b[49m\u001b[43m,\u001b[49m\u001b[43m \u001b[49m\u001b[43mlabels\u001b[49m\u001b[43m)\u001b[49m\n\u001b[1;32m    824\u001b[0m     \u001b[38;5;28mself\u001b[39m\u001b[38;5;241m.\u001b[39m_clear_item_cache()\n",
      "File \u001b[0;32m~/.local/lib/python3.8/site-packages/pandas/core/internals/managers.py:227\u001b[0m, in \u001b[0;36mBaseBlockManager.set_axis\u001b[0;34m(self, axis, new_labels)\u001b[0m\n\u001b[1;32m    225\u001b[0m \u001b[38;5;28;01mdef\u001b[39;00m \u001b[38;5;21mset_axis\u001b[39m(\u001b[38;5;28mself\u001b[39m, axis: \u001b[38;5;28mint\u001b[39m, new_labels: Index) \u001b[38;5;241m-\u001b[39m\u001b[38;5;241m>\u001b[39m \u001b[38;5;28;01mNone\u001b[39;00m:\n\u001b[1;32m    226\u001b[0m     \u001b[38;5;66;03m# Caller is responsible for ensuring we have an Index object.\u001b[39;00m\n\u001b[0;32m--> 227\u001b[0m     \u001b[38;5;28;43mself\u001b[39;49m\u001b[38;5;241;43m.\u001b[39;49m\u001b[43m_validate_set_axis\u001b[49m\u001b[43m(\u001b[49m\u001b[43maxis\u001b[49m\u001b[43m,\u001b[49m\u001b[43m \u001b[49m\u001b[43mnew_labels\u001b[49m\u001b[43m)\u001b[49m\n\u001b[1;32m    228\u001b[0m     \u001b[38;5;28mself\u001b[39m\u001b[38;5;241m.\u001b[39maxes[axis] \u001b[38;5;241m=\u001b[39m new_labels\n",
      "File \u001b[0;32m~/.local/lib/python3.8/site-packages/pandas/core/internals/base.py:70\u001b[0m, in \u001b[0;36mDataManager._validate_set_axis\u001b[0;34m(self, axis, new_labels)\u001b[0m\n\u001b[1;32m     67\u001b[0m     \u001b[38;5;28;01mpass\u001b[39;00m\n\u001b[1;32m     69\u001b[0m \u001b[38;5;28;01melif\u001b[39;00m new_len \u001b[38;5;241m!=\u001b[39m old_len:\n\u001b[0;32m---> 70\u001b[0m     \u001b[38;5;28;01mraise\u001b[39;00m \u001b[38;5;167;01mValueError\u001b[39;00m(\n\u001b[1;32m     71\u001b[0m         \u001b[38;5;124mf\u001b[39m\u001b[38;5;124m\"\u001b[39m\u001b[38;5;124mLength mismatch: Expected axis has \u001b[39m\u001b[38;5;132;01m{\u001b[39;00mold_len\u001b[38;5;132;01m}\u001b[39;00m\u001b[38;5;124m elements, new \u001b[39m\u001b[38;5;124m\"\u001b[39m\n\u001b[1;32m     72\u001b[0m         \u001b[38;5;124mf\u001b[39m\u001b[38;5;124m\"\u001b[39m\u001b[38;5;124mvalues have \u001b[39m\u001b[38;5;132;01m{\u001b[39;00mnew_len\u001b[38;5;132;01m}\u001b[39;00m\u001b[38;5;124m elements\u001b[39m\u001b[38;5;124m\"\u001b[39m\n\u001b[1;32m     73\u001b[0m     )\n",
      "\u001b[0;31mValueError\u001b[0m: Length mismatch: Expected axis has 13 elements, new values have 12 elements"
     ]
    }
   ],
   "source": [
    "data.columns = [\"pais\", \"total_casos\", \"total_obitos\", \"obitos_recentes\", \"total_recuperados\", \"casos_ativos\", \"estado_serio_critico\", \"casos_por_milhao\", \"obitos_por_milhao\", \"total_testes\", \"testes_por_milhao\", \"populacao\"]"
   ]
  },
  {
   "cell_type": "code",
   "execution_count": 103,
   "id": "abb9ef41",
   "metadata": {},
   "outputs": [
    {
     "data": {
      "text/html": [
       "<div>\n",
       "<style scoped>\n",
       "    .dataframe tbody tr th:only-of-type {\n",
       "        vertical-align: middle;\n",
       "    }\n",
       "\n",
       "    .dataframe tbody tr th {\n",
       "        vertical-align: top;\n",
       "    }\n",
       "\n",
       "    .dataframe thead th {\n",
       "        text-align: right;\n",
       "    }\n",
       "</style>\n",
       "<table border=\"1\" class=\"dataframe\">\n",
       "  <thead>\n",
       "    <tr style=\"text-align: right;\">\n",
       "      <th></th>\n",
       "      <th>pais</th>\n",
       "      <th>total_casos</th>\n",
       "      <th>total_obitos</th>\n",
       "      <th>obitos_recentes</th>\n",
       "      <th>total_recuperados</th>\n",
       "      <th>casos_ativos</th>\n",
       "      <th>estado_serio_critico</th>\n",
       "      <th>casos_por_milhao</th>\n",
       "      <th>obitos_por_milhao</th>\n",
       "      <th>total_testes</th>\n",
       "      <th>testes_por_milhao</th>\n",
       "      <th>populacao</th>\n",
       "    </tr>\n",
       "  </thead>\n",
       "  <tbody>\n",
       "    <tr>\n",
       "      <th>225</th>\n",
       "      <td>Niue</td>\n",
       "      <td>80</td>\n",
       "      <td>NaN</td>\n",
       "      <td>NaN</td>\n",
       "      <td>80</td>\n",
       "      <td>0</td>\n",
       "      <td>NaN</td>\n",
       "      <td>49,322</td>\n",
       "      <td>NaN</td>\n",
       "      <td>NaN</td>\n",
       "      <td>NaN</td>\n",
       "      <td>1,622</td>\n",
       "    </tr>\n",
       "    <tr>\n",
       "      <th>226</th>\n",
       "      <td>Vatican City</td>\n",
       "      <td>29</td>\n",
       "      <td>NaN</td>\n",
       "      <td>NaN</td>\n",
       "      <td>29</td>\n",
       "      <td>0</td>\n",
       "      <td>NaN</td>\n",
       "      <td>36,295</td>\n",
       "      <td>NaN</td>\n",
       "      <td>NaN</td>\n",
       "      <td>NaN</td>\n",
       "      <td>799</td>\n",
       "    </tr>\n",
       "    <tr>\n",
       "      <th>227</th>\n",
       "      <td>Tuvalu</td>\n",
       "      <td>20</td>\n",
       "      <td>NaN</td>\n",
       "      <td>NaN</td>\n",
       "      <td>NaN</td>\n",
       "      <td>20</td>\n",
       "      <td>NaN</td>\n",
       "      <td>1,658</td>\n",
       "      <td>NaN</td>\n",
       "      <td>NaN</td>\n",
       "      <td>NaN</td>\n",
       "      <td>12,066</td>\n",
       "    </tr>\n",
       "    <tr>\n",
       "      <th>228</th>\n",
       "      <td>Western Sahara</td>\n",
       "      <td>10</td>\n",
       "      <td>1</td>\n",
       "      <td>NaN</td>\n",
       "      <td>9</td>\n",
       "      <td>0</td>\n",
       "      <td>NaN</td>\n",
       "      <td>16</td>\n",
       "      <td>2</td>\n",
       "      <td>NaN</td>\n",
       "      <td>NaN</td>\n",
       "      <td>626,161</td>\n",
       "    </tr>\n",
       "    <tr>\n",
       "      <th>229</th>\n",
       "      <td>MS Zaandam</td>\n",
       "      <td>9</td>\n",
       "      <td>2</td>\n",
       "      <td>NaN</td>\n",
       "      <td>7</td>\n",
       "      <td>0</td>\n",
       "      <td>NaN</td>\n",
       "      <td>NaN</td>\n",
       "      <td>NaN</td>\n",
       "      <td>NaN</td>\n",
       "      <td>NaN</td>\n",
       "      <td>NaN</td>\n",
       "    </tr>\n",
       "  </tbody>\n",
       "</table>\n",
       "</div>"
      ],
      "text/plain": [
       "               pais total_casos total_obitos  obitos_recentes  \\\n",
       "225            Niue          80          NaN              NaN   \n",
       "226    Vatican City          29          NaN              NaN   \n",
       "227          Tuvalu          20          NaN              NaN   \n",
       "228  Western Sahara          10            1              NaN   \n",
       "229      MS Zaandam           9            2              NaN   \n",
       "\n",
       "    total_recuperados casos_ativos estado_serio_critico casos_por_milhao  \\\n",
       "225                80            0                  NaN           49,322   \n",
       "226                29            0                  NaN           36,295   \n",
       "227               NaN           20                  NaN            1,658   \n",
       "228                 9            0                  NaN               16   \n",
       "229                 7            0                  NaN              NaN   \n",
       "\n",
       "    obitos_por_milhao total_testes testes_por_milhao populacao  \n",
       "225               NaN          NaN               NaN     1,622  \n",
       "226               NaN          NaN               NaN       799  \n",
       "227               NaN          NaN               NaN    12,066  \n",
       "228                 2          NaN               NaN   626,161  \n",
       "229               NaN          NaN               NaN       NaN  "
      ]
     },
     "execution_count": 103,
     "metadata": {},
     "output_type": "execute_result"
    }
   ],
   "source": [
    "data.tail()"
   ]
  },
  {
   "cell_type": "code",
   "execution_count": 104,
   "id": "898b259a",
   "metadata": {},
   "outputs": [
    {
     "name": "stdout",
     "output_type": "stream",
     "text": [
      "<class 'pandas.core.frame.DataFrame'>\n",
      "RangeIndex: 230 entries, 0 to 229\n",
      "Data columns (total 12 columns):\n",
      " #   Column                Non-Null Count  Dtype  \n",
      "---  ------                --------------  -----  \n",
      " 0   pais                  230 non-null    object \n",
      " 1   total_casos           230 non-null    object \n",
      " 2   total_obitos          225 non-null    object \n",
      " 3   obitos_recentes       3 non-null      float64\n",
      " 4   total_recuperados     214 non-null    object \n",
      " 5   casos_ativos          215 non-null    object \n",
      " 6   estado_serio_critico  147 non-null    object \n",
      " 7   casos_por_milhao      228 non-null    object \n",
      " 8   obitos_por_milhao     223 non-null    object \n",
      " 9   total_testes          214 non-null    object \n",
      " 10  testes_por_milhao     214 non-null    object \n",
      " 11  populacao             228 non-null    object \n",
      "dtypes: float64(1), object(11)\n",
      "memory usage: 21.7+ KB\n"
     ]
    }
   ],
   "source": [
    "data.info()"
   ]
  },
  {
   "cell_type": "code",
   "execution_count": 105,
   "id": "34e696fd",
   "metadata": {},
   "outputs": [
    {
     "data": {
      "text/plain": [
       "pais                      0\n",
       "total_casos               0\n",
       "total_obitos              5\n",
       "obitos_recentes         227\n",
       "total_recuperados        16\n",
       "casos_ativos             15\n",
       "estado_serio_critico     83\n",
       "casos_por_milhao          2\n",
       "obitos_por_milhao         7\n",
       "total_testes             16\n",
       "testes_por_milhao        16\n",
       "populacao                 2\n",
       "dtype: int64"
      ]
     },
     "execution_count": 105,
     "metadata": {},
     "output_type": "execute_result"
    }
   ],
   "source": [
    "data.isnull().sum()"
   ]
  },
  {
   "cell_type": "code",
   "execution_count": 106,
   "id": "04ab62b9",
   "metadata": {},
   "outputs": [
    {
     "name": "stdout",
     "output_type": "stream",
     "text": [
      "Informações sobre o Brasil: \n"
     ]
    },
    {
     "data": {
      "text/html": [
       "<div>\n",
       "<style scoped>\n",
       "    .dataframe tbody tr th:only-of-type {\n",
       "        vertical-align: middle;\n",
       "    }\n",
       "\n",
       "    .dataframe tbody tr th {\n",
       "        vertical-align: top;\n",
       "    }\n",
       "\n",
       "    .dataframe thead th {\n",
       "        text-align: right;\n",
       "    }\n",
       "</style>\n",
       "<table border=\"1\" class=\"dataframe\">\n",
       "  <thead>\n",
       "    <tr style=\"text-align: right;\">\n",
       "      <th></th>\n",
       "      <th>pais</th>\n",
       "      <th>total_casos</th>\n",
       "      <th>total_obitos</th>\n",
       "      <th>obitos_recentes</th>\n",
       "      <th>total_recuperados</th>\n",
       "      <th>casos_ativos</th>\n",
       "      <th>estado_serio_critico</th>\n",
       "      <th>casos_por_milhao</th>\n",
       "      <th>obitos_por_milhao</th>\n",
       "      <th>total_testes</th>\n",
       "      <th>testes_por_milhao</th>\n",
       "      <th>populacao</th>\n",
       "    </tr>\n",
       "  </thead>\n",
       "  <tbody>\n",
       "    <tr>\n",
       "      <th>3</th>\n",
       "      <td>Brazil</td>\n",
       "      <td>34,706,757</td>\n",
       "      <td>686,027</td>\n",
       "      <td>NaN</td>\n",
       "      <td>33,838,636</td>\n",
       "      <td>182,094</td>\n",
       "      <td>8,318</td>\n",
       "      <td>161,162</td>\n",
       "      <td>3,186</td>\n",
       "      <td>63,776,166</td>\n",
       "      <td>296,146</td>\n",
       "      <td>215,353,593</td>\n",
       "    </tr>\n",
       "  </tbody>\n",
       "</table>\n",
       "</div>"
      ],
      "text/plain": [
       "     pais total_casos total_obitos  obitos_recentes total_recuperados  \\\n",
       "3  Brazil  34,706,757      686,027              NaN        33,838,636   \n",
       "\n",
       "  casos_ativos estado_serio_critico casos_por_milhao obitos_por_milhao  \\\n",
       "3      182,094                8,318          161,162             3,186   \n",
       "\n",
       "  total_testes testes_por_milhao    populacao  \n",
       "3   63,776,166           296,146  215,353,593  "
      ]
     },
     "execution_count": 106,
     "metadata": {},
     "output_type": "execute_result"
    }
   ],
   "source": [
    "print(\"Informações sobre o Brasil: \")\n",
    "data.query(\"pais == 'Brazil'\")"
   ]
  },
  {
   "cell_type": "code",
   "execution_count": 107,
   "id": "a83d2f82",
   "metadata": {},
   "outputs": [
    {
     "name": "stdout",
     "output_type": "stream",
     "text": [
      "<class 'pandas.core.frame.DataFrame'>\n",
      "RangeIndex: 230 entries, 0 to 229\n",
      "Data columns (total 12 columns):\n",
      " #   Column                Non-Null Count  Dtype  \n",
      "---  ------                --------------  -----  \n",
      " 0   pais                  230 non-null    object \n",
      " 1   total_casos           230 non-null    object \n",
      " 2   total_obitos          225 non-null    object \n",
      " 3   obitos_recentes       3 non-null      float64\n",
      " 4   total_recuperados     214 non-null    object \n",
      " 5   casos_ativos          215 non-null    object \n",
      " 6   estado_serio_critico  147 non-null    object \n",
      " 7   casos_por_milhao      228 non-null    object \n",
      " 8   obitos_por_milhao     223 non-null    object \n",
      " 9   total_testes          214 non-null    object \n",
      " 10  testes_por_milhao     214 non-null    object \n",
      " 11  populacao             228 non-null    object \n",
      "dtypes: float64(1), object(11)\n",
      "memory usage: 21.7+ KB\n"
     ]
    }
   ],
   "source": [
    "# Trocar object por int64 nas colunas onde serão feitos cálculos\n",
    "data.info()"
   ]
  },
  {
   "cell_type": "code",
   "execution_count": 108,
   "id": "c52741d2",
   "metadata": {},
   "outputs": [],
   "source": [
    "colunas = [\"total_casos\", \"total_obitos\", \"obitos_recentes\", \n",
    "           \"total_recuperados\", \"total_recuperados\", \"casos_ativos\", \"estado_serio_critico\",\n",
    "          \"casos_por_milhao\", \"obitos_por_milhao\", \"total_testes\", \"testes_por_milhao\", \"populacao\"]"
   ]
  },
  {
   "cell_type": "code",
   "execution_count": 109,
   "id": "97e0f2ba",
   "metadata": {},
   "outputs": [],
   "source": [
    "for col in colunas:\n",
    "    data[col] = data[col].replace(\",\", \"\")\n",
    "    data[col] = pd.to_numeric(data[col], errors='coerce')         "
   ]
  },
  {
   "cell_type": "code",
   "execution_count": 110,
   "id": "8529a083",
   "metadata": {},
   "outputs": [
    {
     "name": "stdout",
     "output_type": "stream",
     "text": [
      "<class 'pandas.core.frame.DataFrame'>\n",
      "RangeIndex: 230 entries, 0 to 229\n",
      "Data columns (total 12 columns):\n",
      " #   Column                Non-Null Count  Dtype  \n",
      "---  ------                --------------  -----  \n",
      " 0   pais                  230 non-null    object \n",
      " 1   total_casos           8 non-null      float64\n",
      " 2   total_obitos          93 non-null     float64\n",
      " 3   obitos_recentes       3 non-null      float64\n",
      " 4   total_recuperados     9 non-null      float64\n",
      " 5   casos_ativos          98 non-null     float64\n",
      " 6   estado_serio_critico  137 non-null    float64\n",
      " 7   casos_por_milhao      9 non-null      float64\n",
      " 8   obitos_por_milhao     123 non-null    float64\n",
      " 9   total_testes          0 non-null      float64\n",
      " 10  testes_por_milhao     0 non-null      float64\n",
      " 11  populacao             1 non-null      float64\n",
      "dtypes: float64(11), object(1)\n",
      "memory usage: 21.7+ KB\n"
     ]
    }
   ],
   "source": [
    "data.info()"
   ]
  },
  {
   "cell_type": "code",
   "execution_count": 111,
   "id": "ab785722",
   "metadata": {},
   "outputs": [
    {
     "name": "stdout",
     "output_type": "stream",
     "text": [
      "<class 'pandas.core.frame.DataFrame'>\n",
      "RangeIndex: 230 entries, 0 to 229\n",
      "Data columns (total 12 columns):\n",
      " #   Column                Non-Null Count  Dtype  \n",
      "---  ------                --------------  -----  \n",
      " 0   pais                  230 non-null    object \n",
      " 1   total_casos           8 non-null      float64\n",
      " 2   total_obitos          93 non-null     float64\n",
      " 3   obitos_recentes       3 non-null      float64\n",
      " 4   total_recuperados     9 non-null      float64\n",
      " 5   casos_ativos          98 non-null     float64\n",
      " 6   estado_serio_critico  137 non-null    float64\n",
      " 7   casos_por_milhao      9 non-null      float64\n",
      " 8   obitos_por_milhao     123 non-null    float64\n",
      " 9   total_testes          0 non-null      float64\n",
      " 10  testes_por_milhao     0 non-null      float64\n",
      " 11  populacao             1 non-null      float64\n",
      "dtypes: float64(11), object(1)\n",
      "memory usage: 21.7+ KB\n"
     ]
    }
   ],
   "source": [
    "data.info()"
   ]
  },
  {
   "cell_type": "code",
   "execution_count": 112,
   "id": "99052d8f",
   "metadata": {},
   "outputs": [
    {
     "data": {
      "text/plain": [
       "pais                      0\n",
       "total_casos             222\n",
       "total_obitos            137\n",
       "obitos_recentes         227\n",
       "total_recuperados       221\n",
       "casos_ativos            132\n",
       "estado_serio_critico     93\n",
       "casos_por_milhao        221\n",
       "obitos_por_milhao       107\n",
       "total_testes            230\n",
       "testes_por_milhao       230\n",
       "populacao               229\n",
       "dtype: int64"
      ]
     },
     "execution_count": 112,
     "metadata": {},
     "output_type": "execute_result"
    }
   ],
   "source": [
    "data.isnull().sum()"
   ]
  },
  {
   "cell_type": "code",
   "execution_count": 113,
   "id": "59d83e7e",
   "metadata": {},
   "outputs": [
    {
     "ename": "KeyError",
     "evalue": "'coluna'",
     "output_type": "error",
     "traceback": [
      "\u001b[0;31m---------------------------------------------------------------------------\u001b[0m",
      "\u001b[0;31mKeyError\u001b[0m                                  Traceback (most recent call last)",
      "File \u001b[0;32m~/.local/lib/python3.8/site-packages/pandas/core/indexes/base.py:3803\u001b[0m, in \u001b[0;36mIndex.get_loc\u001b[0;34m(self, key, method, tolerance)\u001b[0m\n\u001b[1;32m   3802\u001b[0m \u001b[38;5;28;01mtry\u001b[39;00m:\n\u001b[0;32m-> 3803\u001b[0m     \u001b[38;5;28;01mreturn\u001b[39;00m \u001b[38;5;28;43mself\u001b[39;49m\u001b[38;5;241;43m.\u001b[39;49m\u001b[43m_engine\u001b[49m\u001b[38;5;241;43m.\u001b[39;49m\u001b[43mget_loc\u001b[49m\u001b[43m(\u001b[49m\u001b[43mcasted_key\u001b[49m\u001b[43m)\u001b[49m\n\u001b[1;32m   3804\u001b[0m \u001b[38;5;28;01mexcept\u001b[39;00m \u001b[38;5;167;01mKeyError\u001b[39;00m \u001b[38;5;28;01mas\u001b[39;00m err:\n",
      "File \u001b[0;32m~/.local/lib/python3.8/site-packages/pandas/_libs/index.pyx:138\u001b[0m, in \u001b[0;36mpandas._libs.index.IndexEngine.get_loc\u001b[0;34m()\u001b[0m\n",
      "File \u001b[0;32m~/.local/lib/python3.8/site-packages/pandas/_libs/index.pyx:165\u001b[0m, in \u001b[0;36mpandas._libs.index.IndexEngine.get_loc\u001b[0;34m()\u001b[0m\n",
      "File \u001b[0;32mpandas/_libs/hashtable_class_helper.pxi:5745\u001b[0m, in \u001b[0;36mpandas._libs.hashtable.PyObjectHashTable.get_item\u001b[0;34m()\u001b[0m\n",
      "File \u001b[0;32mpandas/_libs/hashtable_class_helper.pxi:5753\u001b[0m, in \u001b[0;36mpandas._libs.hashtable.PyObjectHashTable.get_item\u001b[0;34m()\u001b[0m\n",
      "\u001b[0;31mKeyError\u001b[0m: 'coluna'",
      "\nThe above exception was the direct cause of the following exception:\n",
      "\u001b[0;31mKeyError\u001b[0m                                  Traceback (most recent call last)",
      "Cell \u001b[0;32mIn [113], line 1\u001b[0m\n\u001b[0;32m----> 1\u001b[0m pd\u001b[38;5;241m.\u001b[39mto_numeric(\u001b[43mdf\u001b[49m\u001b[43m[\u001b[49m\u001b[38;5;124;43m'\u001b[39;49m\u001b[38;5;124;43mcoluna\u001b[39;49m\u001b[38;5;124;43m'\u001b[39;49m\u001b[43m]\u001b[49m,errors\u001b[38;5;241m=\u001b[39m\u001b[38;5;124m'\u001b[39m\u001b[38;5;124mcoerce\u001b[39m\u001b[38;5;124m'\u001b[39m)\n\u001b[1;32m      2\u001b[0m data[\u001b[38;5;124m'\u001b[39m\u001b[38;5;124mtotal_casos\u001b[39m\u001b[38;5;124m'\u001b[39m] \u001b[38;5;241m=\u001b[39m pd\u001b[38;5;241m.\u001b[39mto_numeric(data[\u001b[38;5;124m'\u001b[39m\u001b[38;5;124mtotal_casos\u001b[39m\u001b[38;5;124m'\u001b[39m],errors\u001b[38;5;241m=\u001b[39m\u001b[38;5;124m'\u001b[39m\u001b[38;5;124mcoerce\u001b[39m\u001b[38;5;124m'\u001b[39m)\n\u001b[1;32m      3\u001b[0m data[\u001b[38;5;124m'\u001b[39m\u001b[38;5;124mtotal_obitos\u001b[39m\u001b[38;5;124m'\u001b[39m] \u001b[38;5;241m=\u001b[39m data[\u001b[38;5;124m'\u001b[39m\u001b[38;5;124mtotal_obitos\u001b[39m\u001b[38;5;124m'\u001b[39m]\u001b[38;5;241m.\u001b[39mstr\u001b[38;5;241m.\u001b[39mreplace(\u001b[38;5;124m\"\u001b[39m\u001b[38;5;124m,\u001b[39m\u001b[38;5;124m\"\u001b[39m, \u001b[38;5;124m\"\u001b[39m\u001b[38;5;124m\"\u001b[39m) \n",
      "File \u001b[0;32m~/.local/lib/python3.8/site-packages/pandas/core/frame.py:3804\u001b[0m, in \u001b[0;36mDataFrame.__getitem__\u001b[0;34m(self, key)\u001b[0m\n\u001b[1;32m   3802\u001b[0m \u001b[38;5;28;01mif\u001b[39;00m \u001b[38;5;28mself\u001b[39m\u001b[38;5;241m.\u001b[39mcolumns\u001b[38;5;241m.\u001b[39mnlevels \u001b[38;5;241m>\u001b[39m \u001b[38;5;241m1\u001b[39m:\n\u001b[1;32m   3803\u001b[0m     \u001b[38;5;28;01mreturn\u001b[39;00m \u001b[38;5;28mself\u001b[39m\u001b[38;5;241m.\u001b[39m_getitem_multilevel(key)\n\u001b[0;32m-> 3804\u001b[0m indexer \u001b[38;5;241m=\u001b[39m \u001b[38;5;28;43mself\u001b[39;49m\u001b[38;5;241;43m.\u001b[39;49m\u001b[43mcolumns\u001b[49m\u001b[38;5;241;43m.\u001b[39;49m\u001b[43mget_loc\u001b[49m\u001b[43m(\u001b[49m\u001b[43mkey\u001b[49m\u001b[43m)\u001b[49m\n\u001b[1;32m   3805\u001b[0m \u001b[38;5;28;01mif\u001b[39;00m is_integer(indexer):\n\u001b[1;32m   3806\u001b[0m     indexer \u001b[38;5;241m=\u001b[39m [indexer]\n",
      "File \u001b[0;32m~/.local/lib/python3.8/site-packages/pandas/core/indexes/base.py:3805\u001b[0m, in \u001b[0;36mIndex.get_loc\u001b[0;34m(self, key, method, tolerance)\u001b[0m\n\u001b[1;32m   3803\u001b[0m     \u001b[38;5;28;01mreturn\u001b[39;00m \u001b[38;5;28mself\u001b[39m\u001b[38;5;241m.\u001b[39m_engine\u001b[38;5;241m.\u001b[39mget_loc(casted_key)\n\u001b[1;32m   3804\u001b[0m \u001b[38;5;28;01mexcept\u001b[39;00m \u001b[38;5;167;01mKeyError\u001b[39;00m \u001b[38;5;28;01mas\u001b[39;00m err:\n\u001b[0;32m-> 3805\u001b[0m     \u001b[38;5;28;01mraise\u001b[39;00m \u001b[38;5;167;01mKeyError\u001b[39;00m(key) \u001b[38;5;28;01mfrom\u001b[39;00m \u001b[38;5;21;01merr\u001b[39;00m\n\u001b[1;32m   3806\u001b[0m \u001b[38;5;28;01mexcept\u001b[39;00m \u001b[38;5;167;01mTypeError\u001b[39;00m:\n\u001b[1;32m   3807\u001b[0m     \u001b[38;5;66;03m# If we have a listlike key, _check_indexing_error will raise\u001b[39;00m\n\u001b[1;32m   3808\u001b[0m     \u001b[38;5;66;03m#  InvalidIndexError. Otherwise we fall through and re-raise\u001b[39;00m\n\u001b[1;32m   3809\u001b[0m     \u001b[38;5;66;03m#  the TypeError.\u001b[39;00m\n\u001b[1;32m   3810\u001b[0m     \u001b[38;5;28mself\u001b[39m\u001b[38;5;241m.\u001b[39m_check_indexing_error(key)\n",
      "\u001b[0;31mKeyError\u001b[0m: 'coluna'"
     ]
    }
   ],
   "source": [
    "pd.to_numeric(df['coluna'],errors='coerce')\n",
    "data['total_casos'] = pd.to_numeric(data['total_casos'],errors='coerce')\n",
    "data['total_obitos'] = data['total_obitos'].str.replace(\",\", \"\") \n",
    "data['total_recuperados'] = data['total_recuperados'].str.replace(\",\", \"\") \n",
    "data['casos_ativos'] = data['casos_ativos'].str.replace(\",\", \"\") \n",
    "data['estado_serio_critico'] = data['estado_serio_critico'].str.replace(\",\", \"\") \n",
    "data['casos_por_milhao'] = data['casos_por_milhao'].str.replace(\",\", \"\") \n",
    "data['obitos_por_milhao'] = data['obitos_por_milhao'].str.replace(\",\", \"\") \n",
    "data['total_testes'] = data['total_testes'].str.replace(\",\", \"\")\n",
    "data['testes_por_milhao'] = data['testes_por_milhao'].str.replace(\",\", \"\")\n",
    "data['populacao'] = data['populacao'].str.replace(\",\", \"\")"
   ]
  },
  {
   "cell_type": "code",
   "execution_count": null,
   "id": "4cb5ef11",
   "metadata": {},
   "outputs": [],
   "source": [
    "df = data.copy()\n",
    "df[\"total_casos\"] = df[\"total_casos\"].astype(int)\n",
    "df['total_obitos'] = df['total_obitos'].astype(int)\n",
    "df['total_recuperados'] = df['total_recuperados'].astype(int)\n",
    "df['casos_ativos'] = df['casos_ativos'].astype(int)\n",
    "df['estado_serio_critico'] = df['estado_serio_critico'].astype(int)\n",
    "df['casos_por_milhao'] = df['casos_por_milhao'].astype(int)\n",
    "df['obitos_por_milhao'] = df['obitos_por_milhao'].astype(int)\n",
    "df['total_testes'] = df['total_testes'].astype(int)\n",
    "df['testes_por_milhao'] = df['testes_por_milhao'].astype(int)\n",
    "df['populacao'] = df['populacao'].astype(int)"
   ]
  },
  {
   "cell_type": "code",
   "execution_count": null,
   "id": "4a844b1d",
   "metadata": {},
   "outputs": [],
   "source": []
  },
  {
   "cell_type": "code",
   "execution_count": null,
   "id": "c3a27346",
   "metadata": {},
   "outputs": [],
   "source": [
    "## Retirando as vírgulas e transformando em float os dados object\n",
    "\n",
    "df = data.copy()\n",
    "df[\"total_casos\"] = df[\"total_casos\"].astype(int)\n",
    "df['total_obitos'] = pd.to_numeric(df['total_obitos'], errors='coerce')\n",
    "df['total_recuperados'] = pd.to_numeric(df['total_recuperados'], errors='coerce')\n",
    "df['casos_ativos'] = pd.to_numeric(df['casos_ativos'], errors='coerce')\n",
    "df['estado_serio_critico'] = pd.to_numeric(df['estado_serio_critico'], errors='coerce')\n",
    "df['casos_por_milhao'] = pd.to_numeric(df['casos_por_milhao'], errors='coerce')\n",
    "df['obitos_por_milhao'] = pd.to_numeric(df['obitos_por_milhao'], errors='coerce')\n",
    "df['total_testes'] = pd.to_numeric(df['total_testes'], errors='coerce')\n",
    "df['testes_por_milhao'] = pd.to_numeric(df['testes_por_milhao'], errors='coerce')\n",
    "df['populacao'] = pd.to_numeric(df['populacao'], errors='coerce')"
   ]
  },
  {
   "cell_type": "code",
   "execution_count": null,
   "id": "e2fd7e5d",
   "metadata": {},
   "outputs": [],
   "source": [
    "df.info()"
   ]
  },
  {
   "cell_type": "code",
   "execution_count": null,
   "id": "c54fdee2",
   "metadata": {},
   "outputs": [],
   "source": [
    "df"
   ]
  },
  {
   "cell_type": "code",
   "execution_count": null,
   "id": "932381b5",
   "metadata": {},
   "outputs": [],
   "source": [
    "df.query(\"pais == 'Brazil'\")"
   ]
  },
  {
   "cell_type": "code",
   "execution_count": null,
   "id": "2937d2db",
   "metadata": {},
   "outputs": [],
   "source": [
    "df.isnull().sum()"
   ]
  },
  {
   "cell_type": "code",
   "execution_count": null,
   "id": "ce65c78c",
   "metadata": {},
   "outputs": [],
   "source": []
  }
 ],
 "metadata": {
  "kernelspec": {
   "display_name": "Python 3 (ipykernel)",
   "language": "python",
   "name": "python3"
  },
  "language_info": {
   "codemirror_mode": {
    "name": "ipython",
    "version": 3
   },
   "file_extension": ".py",
   "mimetype": "text/x-python",
   "name": "python",
   "nbconvert_exporter": "python",
   "pygments_lexer": "ipython3",
   "version": "3.8.10"
  }
 },
 "nbformat": 4,
 "nbformat_minor": 5
}
