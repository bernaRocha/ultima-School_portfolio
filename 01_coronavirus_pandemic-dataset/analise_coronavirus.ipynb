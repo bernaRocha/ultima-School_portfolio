{
 "cells": [
  {
   "cell_type": "markdown",
   "id": "74156138",
   "metadata": {},
   "source": [
    "# Análise de um dataset sobre a pandemia do coronavírus"
   ]
  },
  {
   "cell_type": "markdown",
   "id": "e3c92490",
   "metadata": {},
   "source": [
    "#### Dataset: https://www.kaggle.com/datasets/whenamancodes/covid-19-coronavirus-pandemic-dataset"
   ]
  },
  {
   "cell_type": "markdown",
   "id": "0504a790",
   "metadata": {},
   "source": [
    "#### Decidi fazer um estudo com um dataset sobre o coronavírus devido o impacto mundial que causou a pandemia. \n",
    "##### Download do arquivo .csv em 15 de novembro de 2022."
   ]
  },
  {
   "cell_type": "code",
   "execution_count": 1,
   "id": "006d6c05",
   "metadata": {},
   "outputs": [],
   "source": [
    "import pandas as pd\n",
    "import seaborn as sns\n",
    "import numpy as np\n",
    "import matplotlib.pyplot as plt"
   ]
  },
  {
   "cell_type": "code",
   "execution_count": 2,
   "id": "91e5ee5d",
   "metadata": {},
   "outputs": [],
   "source": [
    "data = pd.read_csv('../data/Covid_Live.csv')"
   ]
  },
  {
   "cell_type": "code",
   "execution_count": 3,
   "id": "e778dfcc",
   "metadata": {},
   "outputs": [
    {
     "data": {
      "text/html": [
       "<div>\n",
       "<style scoped>\n",
       "    .dataframe tbody tr th:only-of-type {\n",
       "        vertical-align: middle;\n",
       "    }\n",
       "\n",
       "    .dataframe tbody tr th {\n",
       "        vertical-align: top;\n",
       "    }\n",
       "\n",
       "    .dataframe thead th {\n",
       "        text-align: right;\n",
       "    }\n",
       "</style>\n",
       "<table border=\"1\" class=\"dataframe\">\n",
       "  <thead>\n",
       "    <tr style=\"text-align: right;\">\n",
       "      <th></th>\n",
       "      <th>#</th>\n",
       "      <th>Country,\\nOther</th>\n",
       "      <th>Total\\nCases</th>\n",
       "      <th>Total\\nDeaths</th>\n",
       "      <th>New\\nDeaths</th>\n",
       "      <th>Total\\nRecovered</th>\n",
       "      <th>Active\\nCases</th>\n",
       "      <th>Serious,\\nCritical</th>\n",
       "      <th>Tot Cases/\\n1M pop</th>\n",
       "      <th>Deaths/\\n1M pop</th>\n",
       "      <th>Total\\nTests</th>\n",
       "      <th>Tests/\\n1M pop</th>\n",
       "      <th>Population</th>\n",
       "    </tr>\n",
       "  </thead>\n",
       "  <tbody>\n",
       "    <tr>\n",
       "      <th>0</th>\n",
       "      <td>1</td>\n",
       "      <td>USA</td>\n",
       "      <td>98,166,904</td>\n",
       "      <td>1,084,282</td>\n",
       "      <td>NaN</td>\n",
       "      <td>94,962,112</td>\n",
       "      <td>2,120,510</td>\n",
       "      <td>2,970</td>\n",
       "      <td>293,206</td>\n",
       "      <td>3,239</td>\n",
       "      <td>1,118,158,870</td>\n",
       "      <td>3,339,729</td>\n",
       "      <td>334,805,269</td>\n",
       "    </tr>\n",
       "    <tr>\n",
       "      <th>1</th>\n",
       "      <td>2</td>\n",
       "      <td>India</td>\n",
       "      <td>44,587,307</td>\n",
       "      <td>528,629</td>\n",
       "      <td>NaN</td>\n",
       "      <td>44,019,095</td>\n",
       "      <td>39,583</td>\n",
       "      <td>698</td>\n",
       "      <td>31,698</td>\n",
       "      <td>376</td>\n",
       "      <td>894,416,853</td>\n",
       "      <td>635,857</td>\n",
       "      <td>1,406,631,776</td>\n",
       "    </tr>\n",
       "    <tr>\n",
       "      <th>2</th>\n",
       "      <td>3</td>\n",
       "      <td>France</td>\n",
       "      <td>35,342,950</td>\n",
       "      <td>155,078</td>\n",
       "      <td>NaN</td>\n",
       "      <td>34,527,115</td>\n",
       "      <td>660,757</td>\n",
       "      <td>869</td>\n",
       "      <td>538,892</td>\n",
       "      <td>2,365</td>\n",
       "      <td>271,490,188</td>\n",
       "      <td>4,139,547</td>\n",
       "      <td>65,584,518</td>\n",
       "    </tr>\n",
       "    <tr>\n",
       "      <th>3</th>\n",
       "      <td>4</td>\n",
       "      <td>Brazil</td>\n",
       "      <td>34,706,757</td>\n",
       "      <td>686,027</td>\n",
       "      <td>NaN</td>\n",
       "      <td>33,838,636</td>\n",
       "      <td>182,094</td>\n",
       "      <td>8,318</td>\n",
       "      <td>161,162</td>\n",
       "      <td>3,186</td>\n",
       "      <td>63,776,166</td>\n",
       "      <td>296,146</td>\n",
       "      <td>215,353,593</td>\n",
       "    </tr>\n",
       "    <tr>\n",
       "      <th>4</th>\n",
       "      <td>5</td>\n",
       "      <td>Germany</td>\n",
       "      <td>33,312,373</td>\n",
       "      <td>149,948</td>\n",
       "      <td>NaN</td>\n",
       "      <td>32,315,200</td>\n",
       "      <td>847,225</td>\n",
       "      <td>1,406</td>\n",
       "      <td>397,126</td>\n",
       "      <td>1,788</td>\n",
       "      <td>122,332,384</td>\n",
       "      <td>1,458,359</td>\n",
       "      <td>83,883,596</td>\n",
       "    </tr>\n",
       "  </tbody>\n",
       "</table>\n",
       "</div>"
      ],
      "text/plain": [
       "   # Country,\\nOther Total\\nCases Total\\nDeaths  New\\nDeaths Total\\nRecovered  \\\n",
       "0  1             USA   98,166,904     1,084,282          NaN       94,962,112   \n",
       "1  2           India   44,587,307       528,629          NaN       44,019,095   \n",
       "2  3          France   35,342,950       155,078          NaN       34,527,115   \n",
       "3  4          Brazil   34,706,757       686,027          NaN       33,838,636   \n",
       "4  5         Germany   33,312,373       149,948          NaN       32,315,200   \n",
       "\n",
       "  Active\\nCases Serious,\\nCritical Tot Cases/\\n1M pop Deaths/\\n1M pop  \\\n",
       "0     2,120,510              2,970            293,206           3,239   \n",
       "1        39,583                698             31,698             376   \n",
       "2       660,757                869            538,892           2,365   \n",
       "3       182,094              8,318            161,162           3,186   \n",
       "4       847,225              1,406            397,126           1,788   \n",
       "\n",
       "    Total\\nTests Tests/\\n1M pop     Population  \n",
       "0  1,118,158,870      3,339,729    334,805,269  \n",
       "1    894,416,853        635,857  1,406,631,776  \n",
       "2    271,490,188      4,139,547     65,584,518  \n",
       "3     63,776,166        296,146    215,353,593  \n",
       "4    122,332,384      1,458,359     83,883,596  "
      ]
     },
     "execution_count": 3,
     "metadata": {},
     "output_type": "execute_result"
    }
   ],
   "source": [
    "data.head()"
   ]
  },
  {
   "cell_type": "code",
   "execution_count": 4,
   "id": "47a6eb6d",
   "metadata": {},
   "outputs": [
    {
     "name": "stdout",
     "output_type": "stream",
     "text": [
      "<class 'pandas.core.frame.DataFrame'>\n",
      "RangeIndex: 230 entries, 0 to 229\n",
      "Data columns (total 13 columns):\n",
      " #   Column             Non-Null Count  Dtype  \n",
      "---  ------             --------------  -----  \n",
      " 0   #                  230 non-null    int64  \n",
      " 1   Country,\n",
      "Other     230 non-null    object \n",
      " 2   Total\n",
      "Cases        230 non-null    object \n",
      " 3   Total\n",
      "Deaths       225 non-null    object \n",
      " 4   New\n",
      "Deaths         3 non-null      float64\n",
      " 5   Total\n",
      "Recovered    214 non-null    object \n",
      " 6   Active\n",
      "Cases       215 non-null    object \n",
      " 7   Serious,\n",
      "Critical  147 non-null    object \n",
      " 8   Tot Cases/\n",
      "1M pop  228 non-null    object \n",
      " 9   Deaths/\n",
      "1M pop     223 non-null    object \n",
      " 10  Total\n",
      "Tests        214 non-null    object \n",
      " 11  Tests/\n",
      "1M pop      214 non-null    object \n",
      " 12  Population         228 non-null    object \n",
      "dtypes: float64(1), int64(1), object(11)\n",
      "memory usage: 23.5+ KB\n"
     ]
    }
   ],
   "source": [
    "data.info()"
   ]
  },
  {
   "cell_type": "code",
   "execution_count": 5,
   "id": "a2765953",
   "metadata": {},
   "outputs": [
    {
     "data": {
      "text/plain": [
       "#                       int64\n",
       "Country,\\nOther        object\n",
       "Total\\nCases           object\n",
       "Total\\nDeaths          object\n",
       "New\\nDeaths           float64\n",
       "Total\\nRecovered       object\n",
       "Active\\nCases          object\n",
       "Serious,\\nCritical     object\n",
       "Tot Cases/\\n1M pop     object\n",
       "Deaths/\\n1M pop        object\n",
       "Total\\nTests           object\n",
       "Tests/\\n1M pop         object\n",
       "Population             object\n",
       "dtype: object"
      ]
     },
     "execution_count": 5,
     "metadata": {},
     "output_type": "execute_result"
    }
   ],
   "source": [
    "data.dtypes"
   ]
  },
  {
   "cell_type": "markdown",
   "id": "47e16da8",
   "metadata": {},
   "source": [
    "### Formato deste dataframe"
   ]
  },
  {
   "cell_type": "code",
   "execution_count": 6,
   "id": "252a68df",
   "metadata": {},
   "outputs": [
    {
     "name": "stdout",
     "output_type": "stream",
     "text": [
      "Número de linhas: 230\n",
      "Número de colunas: 13\n"
     ]
    }
   ],
   "source": [
    "print(f\"Número de linhas: {data.shape[0]}\\n\"\n",
    "f\"Número de colunas: {data.shape[1]}\")"
   ]
  },
  {
   "cell_type": "markdown",
   "id": "22e0aa1f",
   "metadata": {},
   "source": [
    "##### Retirando a coluna \"#\" devido a não utilidade para a análise\n"
   ]
  },
  {
   "cell_type": "code",
   "execution_count": 7,
   "id": "43d5b21d",
   "metadata": {},
   "outputs": [],
   "source": [
    "data.drop([\"#\"], axis =1, inplace = True)"
   ]
  },
  {
   "cell_type": "markdown",
   "id": "dedf3abc",
   "metadata": {},
   "source": [
    "#### Renomeando as colunas para melhor entendimento\n"
   ]
  },
  {
   "cell_type": "code",
   "execution_count": 8,
   "id": "d35db781",
   "metadata": {},
   "outputs": [],
   "source": [
    "data.columns = [\"pais\", \"total_casos\", \"total_obitos\", \"obitos_recentes\", \"total_recuperados\", \"casos_ativos\", \"estado_serio_critico\", \"casos_por_milhao\", \"obitos_por_milhao\", \"total_testes\", \"testes_por_milhao\", \"populacao\"]"
   ]
  },
  {
   "cell_type": "code",
   "execution_count": 9,
   "id": "abb9ef41",
   "metadata": {},
   "outputs": [
    {
     "data": {
      "text/html": [
       "<div>\n",
       "<style scoped>\n",
       "    .dataframe tbody tr th:only-of-type {\n",
       "        vertical-align: middle;\n",
       "    }\n",
       "\n",
       "    .dataframe tbody tr th {\n",
       "        vertical-align: top;\n",
       "    }\n",
       "\n",
       "    .dataframe thead th {\n",
       "        text-align: right;\n",
       "    }\n",
       "</style>\n",
       "<table border=\"1\" class=\"dataframe\">\n",
       "  <thead>\n",
       "    <tr style=\"text-align: right;\">\n",
       "      <th></th>\n",
       "      <th>pais</th>\n",
       "      <th>total_casos</th>\n",
       "      <th>total_obitos</th>\n",
       "      <th>obitos_recentes</th>\n",
       "      <th>total_recuperados</th>\n",
       "      <th>casos_ativos</th>\n",
       "      <th>estado_serio_critico</th>\n",
       "      <th>casos_por_milhao</th>\n",
       "      <th>obitos_por_milhao</th>\n",
       "      <th>total_testes</th>\n",
       "      <th>testes_por_milhao</th>\n",
       "      <th>populacao</th>\n",
       "    </tr>\n",
       "  </thead>\n",
       "  <tbody>\n",
       "    <tr>\n",
       "      <th>225</th>\n",
       "      <td>Niue</td>\n",
       "      <td>80</td>\n",
       "      <td>NaN</td>\n",
       "      <td>NaN</td>\n",
       "      <td>80</td>\n",
       "      <td>0</td>\n",
       "      <td>NaN</td>\n",
       "      <td>49,322</td>\n",
       "      <td>NaN</td>\n",
       "      <td>NaN</td>\n",
       "      <td>NaN</td>\n",
       "      <td>1,622</td>\n",
       "    </tr>\n",
       "    <tr>\n",
       "      <th>226</th>\n",
       "      <td>Vatican City</td>\n",
       "      <td>29</td>\n",
       "      <td>NaN</td>\n",
       "      <td>NaN</td>\n",
       "      <td>29</td>\n",
       "      <td>0</td>\n",
       "      <td>NaN</td>\n",
       "      <td>36,295</td>\n",
       "      <td>NaN</td>\n",
       "      <td>NaN</td>\n",
       "      <td>NaN</td>\n",
       "      <td>799</td>\n",
       "    </tr>\n",
       "    <tr>\n",
       "      <th>227</th>\n",
       "      <td>Tuvalu</td>\n",
       "      <td>20</td>\n",
       "      <td>NaN</td>\n",
       "      <td>NaN</td>\n",
       "      <td>NaN</td>\n",
       "      <td>20</td>\n",
       "      <td>NaN</td>\n",
       "      <td>1,658</td>\n",
       "      <td>NaN</td>\n",
       "      <td>NaN</td>\n",
       "      <td>NaN</td>\n",
       "      <td>12,066</td>\n",
       "    </tr>\n",
       "    <tr>\n",
       "      <th>228</th>\n",
       "      <td>Western Sahara</td>\n",
       "      <td>10</td>\n",
       "      <td>1</td>\n",
       "      <td>NaN</td>\n",
       "      <td>9</td>\n",
       "      <td>0</td>\n",
       "      <td>NaN</td>\n",
       "      <td>16</td>\n",
       "      <td>2</td>\n",
       "      <td>NaN</td>\n",
       "      <td>NaN</td>\n",
       "      <td>626,161</td>\n",
       "    </tr>\n",
       "    <tr>\n",
       "      <th>229</th>\n",
       "      <td>MS Zaandam</td>\n",
       "      <td>9</td>\n",
       "      <td>2</td>\n",
       "      <td>NaN</td>\n",
       "      <td>7</td>\n",
       "      <td>0</td>\n",
       "      <td>NaN</td>\n",
       "      <td>NaN</td>\n",
       "      <td>NaN</td>\n",
       "      <td>NaN</td>\n",
       "      <td>NaN</td>\n",
       "      <td>NaN</td>\n",
       "    </tr>\n",
       "  </tbody>\n",
       "</table>\n",
       "</div>"
      ],
      "text/plain": [
       "               pais total_casos total_obitos  obitos_recentes  \\\n",
       "225            Niue          80          NaN              NaN   \n",
       "226    Vatican City          29          NaN              NaN   \n",
       "227          Tuvalu          20          NaN              NaN   \n",
       "228  Western Sahara          10            1              NaN   \n",
       "229      MS Zaandam           9            2              NaN   \n",
       "\n",
       "    total_recuperados casos_ativos estado_serio_critico casos_por_milhao  \\\n",
       "225                80            0                  NaN           49,322   \n",
       "226                29            0                  NaN           36,295   \n",
       "227               NaN           20                  NaN            1,658   \n",
       "228                 9            0                  NaN               16   \n",
       "229                 7            0                  NaN              NaN   \n",
       "\n",
       "    obitos_por_milhao total_testes testes_por_milhao populacao  \n",
       "225               NaN          NaN               NaN     1,622  \n",
       "226               NaN          NaN               NaN       799  \n",
       "227               NaN          NaN               NaN    12,066  \n",
       "228                 2          NaN               NaN   626,161  \n",
       "229               NaN          NaN               NaN       NaN  "
      ]
     },
     "execution_count": 9,
     "metadata": {},
     "output_type": "execute_result"
    }
   ],
   "source": [
    "data.tail()"
   ]
  },
  {
   "cell_type": "code",
   "execution_count": 10,
   "id": "898b259a",
   "metadata": {},
   "outputs": [
    {
     "name": "stdout",
     "output_type": "stream",
     "text": [
      "<class 'pandas.core.frame.DataFrame'>\n",
      "RangeIndex: 230 entries, 0 to 229\n",
      "Data columns (total 12 columns):\n",
      " #   Column                Non-Null Count  Dtype  \n",
      "---  ------                --------------  -----  \n",
      " 0   pais                  230 non-null    object \n",
      " 1   total_casos           230 non-null    object \n",
      " 2   total_obitos          225 non-null    object \n",
      " 3   obitos_recentes       3 non-null      float64\n",
      " 4   total_recuperados     214 non-null    object \n",
      " 5   casos_ativos          215 non-null    object \n",
      " 6   estado_serio_critico  147 non-null    object \n",
      " 7   casos_por_milhao      228 non-null    object \n",
      " 8   obitos_por_milhao     223 non-null    object \n",
      " 9   total_testes          214 non-null    object \n",
      " 10  testes_por_milhao     214 non-null    object \n",
      " 11  populacao             228 non-null    object \n",
      "dtypes: float64(1), object(11)\n",
      "memory usage: 21.7+ KB\n"
     ]
    }
   ],
   "source": [
    "data.info()"
   ]
  },
  {
   "cell_type": "code",
   "execution_count": 11,
   "id": "34e696fd",
   "metadata": {},
   "outputs": [
    {
     "name": "stdout",
     "output_type": "stream",
     "text": [
      "Contagem de valores nulos: \n"
     ]
    },
    {
     "data": {
      "text/plain": [
       "pais                      0\n",
       "total_casos               0\n",
       "total_obitos              5\n",
       "obitos_recentes         227\n",
       "total_recuperados        16\n",
       "casos_ativos             15\n",
       "estado_serio_critico     83\n",
       "casos_por_milhao          2\n",
       "obitos_por_milhao         7\n",
       "total_testes             16\n",
       "testes_por_milhao        16\n",
       "populacao                 2\n",
       "dtype: int64"
      ]
     },
     "execution_count": 11,
     "metadata": {},
     "output_type": "execute_result"
    }
   ],
   "source": [
    "print(\"Contagem de valores nulos: \")\n",
    "data.isnull().sum()"
   ]
  },
  {
   "cell_type": "markdown",
   "id": "2e0b522e",
   "metadata": {},
   "source": [
    "###### Informações sobre o Brasil"
   ]
  },
  {
   "cell_type": "code",
   "execution_count": 37,
   "id": "04ab62b9",
   "metadata": {},
   "outputs": [
    {
     "data": {
      "text/html": [
       "<div>\n",
       "<style scoped>\n",
       "    .dataframe tbody tr th:only-of-type {\n",
       "        vertical-align: middle;\n",
       "    }\n",
       "\n",
       "    .dataframe tbody tr th {\n",
       "        vertical-align: top;\n",
       "    }\n",
       "\n",
       "    .dataframe thead th {\n",
       "        text-align: right;\n",
       "    }\n",
       "</style>\n",
       "<table border=\"1\" class=\"dataframe\">\n",
       "  <thead>\n",
       "    <tr style=\"text-align: right;\">\n",
       "      <th></th>\n",
       "      <th>pais</th>\n",
       "      <th>total_casos</th>\n",
       "      <th>total_obitos</th>\n",
       "      <th>obitos_recentes</th>\n",
       "      <th>total_recuperados</th>\n",
       "      <th>casos_ativos</th>\n",
       "      <th>estado_serio_critico</th>\n",
       "      <th>casos_por_milhao</th>\n",
       "      <th>obitos_por_milhao</th>\n",
       "      <th>total_testes</th>\n",
       "      <th>testes_por_milhao</th>\n",
       "      <th>populacao</th>\n",
       "    </tr>\n",
       "  </thead>\n",
       "  <tbody>\n",
       "    <tr>\n",
       "      <th>3</th>\n",
       "      <td>Brazil</td>\n",
       "      <td>34706757</td>\n",
       "      <td>686027.0</td>\n",
       "      <td>NaN</td>\n",
       "      <td>33838636.0</td>\n",
       "      <td>182094.0</td>\n",
       "      <td>8318.0</td>\n",
       "      <td>161162.0</td>\n",
       "      <td>3186.0</td>\n",
       "      <td>63776166.0</td>\n",
       "      <td>296146.0</td>\n",
       "      <td>215353593.0</td>\n",
       "    </tr>\n",
       "  </tbody>\n",
       "</table>\n",
       "</div>"
      ],
      "text/plain": [
       "     pais  total_casos  total_obitos  obitos_recentes  total_recuperados  \\\n",
       "3  Brazil     34706757      686027.0              NaN         33838636.0   \n",
       "\n",
       "   casos_ativos  estado_serio_critico  casos_por_milhao  obitos_por_milhao  \\\n",
       "3      182094.0                8318.0          161162.0             3186.0   \n",
       "\n",
       "   total_testes  testes_por_milhao    populacao  \n",
       "3    63776166.0           296146.0  215353593.0  "
      ]
     },
     "execution_count": 37,
     "metadata": {},
     "output_type": "execute_result"
    }
   ],
   "source": [
    "data.query(\"pais == 'Brazil'\")"
   ]
  },
  {
   "cell_type": "markdown",
   "id": "8828bfa4",
   "metadata": {},
   "source": [
    "###### Estatísticas gerais"
   ]
  },
  {
   "cell_type": "code",
   "execution_count": 31,
   "id": "ff805264",
   "metadata": {},
   "outputs": [
    {
     "data": {
      "text/html": [
       "<div>\n",
       "<style scoped>\n",
       "    .dataframe tbody tr th:only-of-type {\n",
       "        vertical-align: middle;\n",
       "    }\n",
       "\n",
       "    .dataframe tbody tr th {\n",
       "        vertical-align: top;\n",
       "    }\n",
       "\n",
       "    .dataframe thead th {\n",
       "        text-align: right;\n",
       "    }\n",
       "</style>\n",
       "<table border=\"1\" class=\"dataframe\">\n",
       "  <thead>\n",
       "    <tr style=\"text-align: right;\">\n",
       "      <th></th>\n",
       "      <th>total_casos</th>\n",
       "      <th>total_obitos</th>\n",
       "      <th>obitos_recentes</th>\n",
       "      <th>total_recuperados</th>\n",
       "      <th>casos_ativos</th>\n",
       "      <th>estado_serio_critico</th>\n",
       "      <th>casos_por_milhao</th>\n",
       "      <th>obitos_por_milhao</th>\n",
       "      <th>total_testes</th>\n",
       "      <th>testes_por_milhao</th>\n",
       "      <th>populacao</th>\n",
       "    </tr>\n",
       "  </thead>\n",
       "  <tbody>\n",
       "    <tr>\n",
       "      <th>count</th>\n",
       "      <td>2.300000e+02</td>\n",
       "      <td>2.250000e+02</td>\n",
       "      <td>3.0</td>\n",
       "      <td>2.140000e+02</td>\n",
       "      <td>2.150000e+02</td>\n",
       "      <td>147.000000</td>\n",
       "      <td>228.000000</td>\n",
       "      <td>223.000000</td>\n",
       "      <td>2.140000e+02</td>\n",
       "      <td>2.140000e+02</td>\n",
       "      <td>2.280000e+02</td>\n",
       "    </tr>\n",
       "    <tr>\n",
       "      <th>mean</th>\n",
       "      <td>2.705969e+06</td>\n",
       "      <td>2.909820e+04</td>\n",
       "      <td>18.0</td>\n",
       "      <td>2.807255e+06</td>\n",
       "      <td>5.744895e+04</td>\n",
       "      <td>270.224490</td>\n",
       "      <td>179621.846491</td>\n",
       "      <td>1197.968610</td>\n",
       "      <td>3.137011e+07</td>\n",
       "      <td>2.050888e+06</td>\n",
       "      <td>3.484620e+07</td>\n",
       "    </tr>\n",
       "    <tr>\n",
       "      <th>std</th>\n",
       "      <td>8.779899e+06</td>\n",
       "      <td>1.022137e+05</td>\n",
       "      <td>21.0</td>\n",
       "      <td>8.815291e+06</td>\n",
       "      <td>2.073823e+05</td>\n",
       "      <td>922.698201</td>\n",
       "      <td>182372.507626</td>\n",
       "      <td>1246.991628</td>\n",
       "      <td>1.144561e+08</td>\n",
       "      <td>3.490517e+06</td>\n",
       "      <td>1.389233e+08</td>\n",
       "    </tr>\n",
       "    <tr>\n",
       "      <th>min</th>\n",
       "      <td>9.000000e+00</td>\n",
       "      <td>1.000000e+00</td>\n",
       "      <td>3.0</td>\n",
       "      <td>2.000000e+00</td>\n",
       "      <td>0.000000e+00</td>\n",
       "      <td>1.000000</td>\n",
       "      <td>16.000000</td>\n",
       "      <td>2.000000</td>\n",
       "      <td>5.117000e+03</td>\n",
       "      <td>5.091000e+03</td>\n",
       "      <td>7.990000e+02</td>\n",
       "    </tr>\n",
       "    <tr>\n",
       "      <th>25%</th>\n",
       "      <td>2.364900e+04</td>\n",
       "      <td>2.020000e+02</td>\n",
       "      <td>6.0</td>\n",
       "      <td>1.968325e+04</td>\n",
       "      <td>1.320000e+02</td>\n",
       "      <td>4.500000</td>\n",
       "      <td>16932.500000</td>\n",
       "      <td>157.500000</td>\n",
       "      <td>3.462602e+05</td>\n",
       "      <td>1.807408e+05</td>\n",
       "      <td>5.170965e+05</td>\n",
       "    </tr>\n",
       "    <tr>\n",
       "      <th>50%</th>\n",
       "      <td>2.037110e+05</td>\n",
       "      <td>2.179000e+03</td>\n",
       "      <td>9.0</td>\n",
       "      <td>2.250110e+05</td>\n",
       "      <td>1.246000e+03</td>\n",
       "      <td>18.000000</td>\n",
       "      <td>117976.000000</td>\n",
       "      <td>777.000000</td>\n",
       "      <td>2.172044e+06</td>\n",
       "      <td>8.717415e+05</td>\n",
       "      <td>5.816378e+06</td>\n",
       "    </tr>\n",
       "    <tr>\n",
       "      <th>75%</th>\n",
       "      <td>1.256286e+06</td>\n",
       "      <td>1.412200e+04</td>\n",
       "      <td>25.5</td>\n",
       "      <td>1.437441e+06</td>\n",
       "      <td>1.923950e+04</td>\n",
       "      <td>101.000000</td>\n",
       "      <td>293122.750000</td>\n",
       "      <td>1953.000000</td>\n",
       "      <td>1.267585e+07</td>\n",
       "      <td>2.345814e+06</td>\n",
       "      <td>2.254928e+07</td>\n",
       "    </tr>\n",
       "    <tr>\n",
       "      <th>max</th>\n",
       "      <td>9.816690e+07</td>\n",
       "      <td>1.084282e+06</td>\n",
       "      <td>42.0</td>\n",
       "      <td>9.496211e+07</td>\n",
       "      <td>2.120510e+06</td>\n",
       "      <td>8318.000000</td>\n",
       "      <td>703959.000000</td>\n",
       "      <td>6429.000000</td>\n",
       "      <td>1.118159e+09</td>\n",
       "      <td>2.200494e+07</td>\n",
       "      <td>1.448471e+09</td>\n",
       "    </tr>\n",
       "  </tbody>\n",
       "</table>\n",
       "</div>"
      ],
      "text/plain": [
       "        total_casos  total_obitos  obitos_recentes  total_recuperados  \\\n",
       "count  2.300000e+02  2.250000e+02              3.0       2.140000e+02   \n",
       "mean   2.705969e+06  2.909820e+04             18.0       2.807255e+06   \n",
       "std    8.779899e+06  1.022137e+05             21.0       8.815291e+06   \n",
       "min    9.000000e+00  1.000000e+00              3.0       2.000000e+00   \n",
       "25%    2.364900e+04  2.020000e+02              6.0       1.968325e+04   \n",
       "50%    2.037110e+05  2.179000e+03              9.0       2.250110e+05   \n",
       "75%    1.256286e+06  1.412200e+04             25.5       1.437441e+06   \n",
       "max    9.816690e+07  1.084282e+06             42.0       9.496211e+07   \n",
       "\n",
       "       casos_ativos  estado_serio_critico  casos_por_milhao  \\\n",
       "count  2.150000e+02            147.000000        228.000000   \n",
       "mean   5.744895e+04            270.224490     179621.846491   \n",
       "std    2.073823e+05            922.698201     182372.507626   \n",
       "min    0.000000e+00              1.000000         16.000000   \n",
       "25%    1.320000e+02              4.500000      16932.500000   \n",
       "50%    1.246000e+03             18.000000     117976.000000   \n",
       "75%    1.923950e+04            101.000000     293122.750000   \n",
       "max    2.120510e+06           8318.000000     703959.000000   \n",
       "\n",
       "       obitos_por_milhao  total_testes  testes_por_milhao     populacao  \n",
       "count         223.000000  2.140000e+02       2.140000e+02  2.280000e+02  \n",
       "mean         1197.968610  3.137011e+07       2.050888e+06  3.484620e+07  \n",
       "std          1246.991628  1.144561e+08       3.490517e+06  1.389233e+08  \n",
       "min             2.000000  5.117000e+03       5.091000e+03  7.990000e+02  \n",
       "25%           157.500000  3.462602e+05       1.807408e+05  5.170965e+05  \n",
       "50%           777.000000  2.172044e+06       8.717415e+05  5.816378e+06  \n",
       "75%          1953.000000  1.267585e+07       2.345814e+06  2.254928e+07  \n",
       "max          6429.000000  1.118159e+09       2.200494e+07  1.448471e+09  "
      ]
     },
     "execution_count": 31,
     "metadata": {},
     "output_type": "execute_result"
    }
   ],
   "source": [
    "data.describe()"
   ]
  },
  {
   "cell_type": "markdown",
   "id": "f0e71821",
   "metadata": {},
   "source": [
    "##### Trocar as colunas de tipo object por int64 para facilitar os cálculos\n"
   ]
  },
  {
   "cell_type": "code",
   "execution_count": 15,
   "id": "c52741d2",
   "metadata": {},
   "outputs": [],
   "source": [
    "colunas = [\"total_casos\", \n",
    "           \"total_obitos\", \n",
    "           \"total_recuperados\", \n",
    "           \"casos_ativos\",\n",
    "           \"estado_serio_critico\", \n",
    "           \"casos_por_milhao\", \n",
    "           \"obitos_por_milhao\", \n",
    "           \"total_testes\", \n",
    "           \"testes_por_milhao\", \n",
    "           \"populacao\"]"
   ]
  },
  {
   "cell_type": "code",
   "execution_count": 16,
   "id": "97e0f2ba",
   "metadata": {},
   "outputs": [],
   "source": [
    "for col in colunas:\n",
    "    data[col] = data[col].str.replace(\",\", \"\")\n",
    "    data[col] = pd.to_numeric(data[col], errors='coerce')         "
   ]
  },
  {
   "cell_type": "code",
   "execution_count": 17,
   "id": "8529a083",
   "metadata": {},
   "outputs": [
    {
     "name": "stdout",
     "output_type": "stream",
     "text": [
      "<class 'pandas.core.frame.DataFrame'>\n",
      "RangeIndex: 230 entries, 0 to 229\n",
      "Data columns (total 12 columns):\n",
      " #   Column                Non-Null Count  Dtype  \n",
      "---  ------                --------------  -----  \n",
      " 0   pais                  230 non-null    object \n",
      " 1   total_casos           230 non-null    int64  \n",
      " 2   total_obitos          225 non-null    float64\n",
      " 3   obitos_recentes       3 non-null      float64\n",
      " 4   total_recuperados     214 non-null    float64\n",
      " 5   casos_ativos          215 non-null    float64\n",
      " 6   estado_serio_critico  147 non-null    float64\n",
      " 7   casos_por_milhao      228 non-null    float64\n",
      " 8   obitos_por_milhao     223 non-null    float64\n",
      " 9   total_testes          214 non-null    float64\n",
      " 10  testes_por_milhao     214 non-null    float64\n",
      " 11  populacao             228 non-null    float64\n",
      "dtypes: float64(10), int64(1), object(1)\n",
      "memory usage: 21.7+ KB\n"
     ]
    }
   ],
   "source": [
    "data.info()"
   ]
  },
  {
   "cell_type": "code",
   "execution_count": 18,
   "id": "99052d8f",
   "metadata": {},
   "outputs": [
    {
     "data": {
      "text/plain": [
       "pais                      0\n",
       "total_casos               0\n",
       "total_obitos              5\n",
       "obitos_recentes         227\n",
       "total_recuperados        16\n",
       "casos_ativos             15\n",
       "estado_serio_critico     83\n",
       "casos_por_milhao          2\n",
       "obitos_por_milhao         7\n",
       "total_testes             16\n",
       "testes_por_milhao        16\n",
       "populacao                 2\n",
       "dtype: int64"
      ]
     },
     "execution_count": 18,
     "metadata": {},
     "output_type": "execute_result"
    }
   ],
   "source": [
    "data.isnull().sum()"
   ]
  },
  {
   "cell_type": "markdown",
   "id": "ec43e7c7",
   "metadata": {},
   "source": [
    "##### Histogramas: \n",
    "##### Verificando os testes por milhão e vendo que há nações testando mais sua população"
   ]
  },
  {
   "cell_type": "code",
   "execution_count": 19,
   "id": "50cbb9ea",
   "metadata": {},
   "outputs": [
    {
     "data": {
      "text/plain": [
       "<AxesSubplot: >"
      ]
     },
     "execution_count": 19,
     "metadata": {},
     "output_type": "execute_result"
    },
    {
     "data": {
      "image/png": "[encoded data removed]",
      "text/plain": [
       "<Figure size 1000x400 with 1 Axes>"
      ]
     },
     "metadata": {},
     "output_type": "display_data"
    }
   ],
   "source": [
    "data[\"testes_por_milhao\"].hist(grid=False, bins=80, legend=True, figsize=(10, 4))"
   ]
  },
  {
   "cell_type": "markdown",
   "id": "2f1d0a33",
   "metadata": {},
   "source": [
    "##### O histograma da população é próximo dos testes por milhão"
   ]
  },
  {
   "cell_type": "code",
   "execution_count": 20,
   "id": "fb833fbe",
   "metadata": {},
   "outputs": [
    {
     "data": {
      "text/plain": [
       "<AxesSubplot: >"
      ]
     },
     "execution_count": 20,
     "metadata": {},
     "output_type": "execute_result"
    },
    {
     "data": {
      "image/png": "[encoded data removed]",
      "text/plain": [
       "<Figure size 1200x400 with 1 Axes>"
      ]
     },
     "metadata": {},
     "output_type": "display_data"
    }
   ],
   "source": [
    "data[\"populacao\"].hist(grid=False, bins=80, legend=True, figsize=(12, 4))"
   ]
  },
  {
   "cell_type": "markdown",
   "id": "4e8aa529",
   "metadata": {},
   "source": [
    "###### A maioria dos países tem poucos casos em estado crítico"
   ]
  },
  {
   "cell_type": "code",
   "execution_count": 21,
   "id": "4e44c0f0",
   "metadata": {},
   "outputs": [
    {
     "data": {
      "text/plain": [
       "<AxesSubplot: >"
      ]
     },
     "execution_count": 21,
     "metadata": {},
     "output_type": "execute_result"
    },
    {
     "data": {
      "image/png": "[encoded data removed]",
      "text/plain": [
       "<Figure size 1200x400 with 1 Axes>"
      ]
     },
     "metadata": {},
     "output_type": "display_data"
    }
   ],
   "source": [
    "data[\"estado_serio_critico\"].hist(grid=False, bins=80, legend=True, figsize=(12, 4))"
   ]
  },
  {
   "cell_type": "markdown",
   "id": "248047fb",
   "metadata": {},
   "source": [
    "##### Boxplot's"
   ]
  },
  {
   "cell_type": "code",
   "execution_count": 22,
   "id": "4a865db5",
   "metadata": {},
   "outputs": [
    {
     "data": {
      "text/plain": [
       "<AxesSubplot: >"
      ]
     },
     "execution_count": 22,
     "metadata": {},
     "output_type": "execute_result"
    },
    {
     "data": {
      "image/png": "[encoded data removed]",
      "text/plain": [
       "<Figure size 640x480 with 1 Axes>"
      ]
     },
     "metadata": {},
     "output_type": "display_data"
    }
   ],
   "source": [
    "sns.boxplot(\n",
    "    data[\"testes_por_milhao\"], \n",
    "    orient=\"h\",\n",
    "    width=0.4,\n",
    "    linewidth=0.9)"
   ]
  },
  {
   "cell_type": "code",
   "execution_count": 23,
   "id": "80ccc0bf",
   "metadata": {},
   "outputs": [
    {
     "data": {
      "text/plain": [
       "<AxesSubplot: >"
      ]
     },
     "execution_count": 23,
     "metadata": {},
     "output_type": "execute_result"
    },
    {
     "data": {
      "image/png": "[encoded data removed]",
      "text/plain": [
       "<Figure size 640x480 with 1 Axes>"
      ]
     },
     "metadata": {},
     "output_type": "display_data"
    }
   ],
   "source": [
    "sns.boxplot(\n",
    "    data[\"populacao\"], \n",
    "    orient=\"h\",\n",
    "    width=0.4,\n",
    "    linewidth=0.9)"
   ]
  },
  {
   "cell_type": "code",
   "execution_count": 24,
   "id": "536f0344",
   "metadata": {},
   "outputs": [
    {
     "data": {
      "text/plain": [
       "<AxesSubplot: >"
      ]
     },
     "execution_count": 24,
     "metadata": {},
     "output_type": "execute_result"
    },
    {
     "data": {
      "image/png": "[encoded data removed]",
      "text/plain": [
       "<Figure size 640x480 with 1 Axes>"
      ]
     },
     "metadata": {},
     "output_type": "display_data"
    }
   ],
   "source": [
    "sns.boxplot(\n",
    "    data[\"obitos_por_milhao\"], \n",
    "    orient=\"h\",\n",
    "    width=0.3,\n",
    "    linewidth=0.9)"
   ]
  },
  {
   "cell_type": "code",
   "execution_count": 25,
   "id": "0ee9d6d3",
   "metadata": {},
   "outputs": [
    {
     "data": {
      "text/plain": [
       "<AxesSubplot: xlabel='testes_por_milhao', ylabel='total_testes'>"
      ]
     },
     "execution_count": 25,
     "metadata": {},
     "output_type": "execute_result"
    },
    {
     "data": {
      "image/png": "[encoded data removed]",
      "text/plain": [
       "<Figure size 640x480 with 1 Axes>"
      ]
     },
     "metadata": {},
     "output_type": "display_data"
    }
   ],
   "source": [
    "sns.scatterplot(x=\"testes_por_milhao\", y=\"total_testes\", \n",
    "                data=data, hue=\"total_casos\", \n",
    "                size=\"total_casos\", \n",
    "                sizes=(20, 120))"
   ]
  },
  {
   "cell_type": "code",
   "execution_count": 26,
   "id": "435abc16",
   "metadata": {},
   "outputs": [
    {
     "data": {
      "text/plain": [
       "<AxesSubplot: xlabel='total_obitos', ylabel='populacao'>"
      ]
     },
     "execution_count": 26,
     "metadata": {},
     "output_type": "execute_result"
    },
    {
     "data": {
      "image/png": "[encoded data removed]",
      "text/plain": [
       "<Figure size 640x480 with 1 Axes>"
      ]
     },
     "metadata": {},
     "output_type": "display_data"
    }
   ],
   "source": [
    "sns.scatterplot(x=\"total_obitos\", y=\"populacao\", \n",
    "                data=data, hue=\"testes_por_milhao\",\n",
    "                size=\"testes_por_milhao\", sizes=(20, 120))"
   ]
  },
  {
   "cell_type": "code",
   "execution_count": 27,
   "id": "c63ccc6f",
   "metadata": {},
   "outputs": [
    {
     "data": {
      "text/plain": [
       "<AxesSubplot: xlabel='total_testes', ylabel='estado_serio_critico'>"
      ]
     },
     "execution_count": 27,
     "metadata": {},
     "output_type": "execute_result"
    },
    {
     "data": {
      "image/png": "[encoded data removed]",
      "text/plain": [
       "<Figure size 640x480 with 1 Axes>"
      ]
     },
     "metadata": {},
     "output_type": "display_data"
    }
   ],
   "source": [
    "sns.scatterplot(x=\"total_testes\", y=\"estado_serio_critico\", \n",
    "                data=data, hue=\"testes_por_milhao\",\n",
    "                size=\"testes_por_milhao\", sizes=(20, 120))"
   ]
  },
  {
   "cell_type": "code",
   "execution_count": 28,
   "id": "d018d7fb",
   "metadata": {},
   "outputs": [
    {
     "data": {
      "text/plain": [
       "<AxesSubplot: xlabel='populacao', ylabel='testes_por_milhao'>"
      ]
     },
     "execution_count": 28,
     "metadata": {},
     "output_type": "execute_result"
    },
    {
     "data": {
      "image/png": "[encoded data removed]",
      "text/plain": [
       "<Figure size 640x480 with 1 Axes>"
      ]
     },
     "metadata": {},
     "output_type": "display_data"
    }
   ],
   "source": [
    "sns.scatterplot(x=\"populacao\", y=\"testes_por_milhao\", \n",
    "                data=data, hue=\"testes_por_milhao\",\n",
    "                size=\"testes_por_milhao\", sizes=(20, 120))"
   ]
  }
 ],
 "metadata": {
  "kernelspec": {
   "display_name": "Python 3 (ipykernel)",
   "language": "python",
   "name": "python3"
  },
  "language_info": {
   "codemirror_mode": {
    "name": "ipython",
    "version": 3
   },
   "file_extension": ".py",
   "mimetype": "text/x-python",
   "name": "python",
   "nbconvert_exporter": "python",
   "pygments_lexer": "ipython3",
   "version": "3.8.10"
  }
 },
 "nbformat": 4,
 "nbformat_minor": 5
}
